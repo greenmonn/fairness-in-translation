{
 "cells": [
  {
   "cell_type": "code",
   "execution_count": 1,
   "metadata": {},
   "outputs": [],
   "source": [
    "import importlib\n",
    "\n",
    "from transrepair_kor.main import Sentence, test_consistency, repair, calc_consistency_score, Sentence\n",
    "from tqdm import tqdm\n",
    "import pandas as pd\n"
   ]
  },
  {
   "cell_type": "code",
   "execution_count": 2,
   "metadata": {},
   "outputs": [],
   "source": [
    "df = pd.read_csv('./data/groups_kor_eng/gender.csv')\n",
    "\n",
    "kor_sentences = []\n",
    "eng_sentences = []\n",
    "\n",
    "for i, row in df.iterrows():\n",
    "    kor_sentences.append(row[\"원문\"])\n",
    "    eng_sentences.append(row[\"번역문\"])"
   ]
  },
  {
   "cell_type": "code",
   "execution_count": 3,
   "metadata": {},
   "outputs": [
    {
     "data": {
      "text/plain": [
       "160399"
      ]
     },
     "execution_count": 3,
     "metadata": {},
     "output_type": "execute_result"
    }
   ],
   "source": [
    "len(kor_sentences)"
   ]
  },
  {
   "cell_type": "code",
   "execution_count": 4,
   "metadata": {},
   "outputs": [
    {
     "name": "stderr",
     "output_type": "stream",
     "text": [
      "100%|██████████| 1000/1000 [07:23<00:00,  2.25it/s]\n"
     ]
    }
   ],
   "source": [
    "# text = Sentence(\"마지막으로 그는 자신이 아끼는 엽서에 할아버지를 위해 그림을 그려줘요.\", debug=True)\n",
    "sentences = {}\n",
    "for s in tqdm(kor_sentences[:1000]):\n",
    "    text = Sentence(s)\n",
    "    sentences[text.hash] = text\n"
   ]
  },
  {
   "cell_type": "code",
   "execution_count": 5,
   "metadata": {},
   "outputs": [],
   "source": [
    "mutant_sentences = {}"
   ]
  },
  {
   "cell_type": "code",
   "execution_count": 6,
   "metadata": {},
   "outputs": [
    {
     "name": "stderr",
     "output_type": "stream",
     "text": [
      "100%|██████████| 883/883 [1:00:32<00:00,  4.11s/it]\n"
     ]
    }
   ],
   "source": [
    "for hash, text in tqdm(sentences.items()):\n",
    "    if hash in mutant_sentences:\n",
    "        continue\n",
    "    mutants = text.create_mutations()\n",
    "    mutant_sentences[hash] = mutants"
   ]
  },
  {
   "cell_type": "code",
   "execution_count": 10,
   "metadata": {},
   "outputs": [
    {
     "name": "stderr",
     "output_type": "stream",
     "text": [
      "  0%|          | 0/883 [00:00<?, ?it/s]"
     ]
    },
    {
     "name": "stdout",
     "output_type": "stream",
     "text": [
      "Inconsistent mutant: c는 동거은 자신의 삶을 경제적으로 안정되게 할 수단이라고 생각해요. -> c thinks that living together is a means to economically stable one's life. [0.5797101449275363]\n",
      "Consistency Error: c는 결혼은 자신의 삶을 경제적으로 안정되게 할 수단이라고 생각해요. -> c thinks that marriage is a means of making one's life economically stable.\n",
      "Inconsistent mutant: Specktakel 레스토랑의 수석 셰프 Den Hartogh는 음료 맛이 좋다고 극찬을 받았습니다. -> Specktakel restaurant head chef Den Hartogh praised the drinks for their taste. [0.4821428571428571]\n",
      "Consistency Error: Specktakel 레스토랑의 수석 셰프 Den Hartogh는 음식 맛이 좋다고 극찬을 받았습니다. -> Head Chef Den Hartogh at Specktakel Restaurant has been praised for the taste of the food.\n"
     ]
    },
    {
     "name": "stderr",
     "output_type": "stream",
     "text": [
      "  1%|          | 9/883 [00:00<00:56, 15.43it/s]"
     ]
    },
    {
     "name": "stdout",
     "output_type": "stream",
     "text": [
      "Inconsistent mutant: 김하늘과 과에서 1에서 2위를 다투고 있는 인물이며 똑똑한 이미지에 악바리도 강합니다. -> Kim Ha-neul and Kim Ha-neul are competing for 1st to 2nd place in the department. [0.5652173913043479]\n",
      "Consistency Error: 김하늘과 과에서 1에서 2위를 다투고 있는 인물이며 똑똑한 이미지에 승부욕도 강합니다. -> He is competing with Kim Ha-neul for 1st to 2nd place in the department, and he has a strong desire to win with a smart image.\n"
     ]
    },
    {
     "name": "stderr",
     "output_type": "stream",
     "text": [
      "  1%|          | 11/883 [00:08<17:10,  1.18s/it]"
     ]
    },
    {
     "name": "stdout",
     "output_type": "stream",
     "text": [
      "Inconsistent mutant: 홍정현이 오늘 병원 가야 해서 결석한대요. -> Hong Jung-hyun said he had to go to the hospital today and was absent. [0.6153846153846154]\n",
      "Consistency Error: 박정현이 오늘 병원 가야 해서 결석한대요. -> Park Jung-hyun was absent today because he had to go to the hospital.\n"
     ]
    },
    {
     "name": "stderr",
     "output_type": "stream",
     "text": [
      "  2%|▏         | 22/883 [00:09<12:17,  1.17it/s]"
     ]
    },
    {
     "name": "stdout",
     "output_type": "stream",
     "text": [
      "Inconsistent mutant: 박지성의 어린 시절은 남들보다 버튼도 작고 체격도 안 좋아 그렇게 유망한 축구선수는 아녔습니다. -> Park Ji-sung was not a promising soccer player when he was younger because he had smaller buttons than others and had a poor physique. [0.5238095238095238]\n",
      "Consistency Error: 박지성의 어린 시절은 남들보다 키도 작고 체격도 안 좋아 그렇게 유망한 축구선수는 아녔습니다. -> Park Ji-sung's childhood was shorter than others and had a poor physique, so he wasn't such a promising soccer player.\n"
     ]
    },
    {
     "name": "stderr",
     "output_type": "stream",
     "text": [
      "  3%|▎         | 23/883 [00:11<17:37,  1.23s/it]"
     ]
    },
    {
     "name": "stdout",
     "output_type": "stream",
     "text": [
      "Inconsistent mutant: 에반 밀러는 앨라배마에서 주거 폭력을 일삼는 아버지를 피해 가출했어요. -> Evan Miller ran away from home in Alabama from his father, who was a victim of domestic violence. [0.631578947368421]\n",
      "Consistency Error: 에반 밀러는 앨라배마에서 가정 폭력을 일삼는 아버지를 피해 가출했어요. -> Evan Miller ran away from his father, a domestic violence victim, in Alabama.\n",
      "Inconsistent mutant: 포스맨 영화로 많은 인기를 얻었습니다. -> The Force Man movie was very popular. [0.37142857142857144]\n",
      "Consistency Error: 엑스맨 영화로 많은 인기를 얻었습니다. -> It became very popular with the X-Men movies.\n",
      "Inconsistent mutant: 유승민 농구의 국가대표 시절은 어땠나요? -> Seungmin Yoo What was your basketball team like? [0.59375]\n",
      "Consistency Error: 유승민 선수의 국가대표 시절은 어땠나요? -> What was Yoo Seung-min's national team like?\n"
     ]
    },
    {
     "name": "stderr",
     "output_type": "stream",
     "text": [
      "  4%|▎         | 32/883 [00:11<12:30,  1.13it/s]"
     ]
    },
    {
     "name": "stdout",
     "output_type": "stream",
     "text": [
      "Inconsistent mutant: 제임스 척추이 탈구됐어요. -> James had a dislocated spine. [0]\n",
      "Consistency Error: 제임스 관절이 탈구됐어요. -> James' joint was dislocated.\n"
     ]
    },
    {
     "name": "stderr",
     "output_type": "stream",
     "text": [
      "  4%|▍         | 35/883 [00:12<09:11,  1.54it/s]"
     ]
    },
    {
     "name": "stdout",
     "output_type": "stream",
     "text": [
      "Inconsistent mutant: 조는 뇌 치료으로 시한부 선고를 받아요. -> Joe receives a life-limiting sentence for brain treatment. [0.65]\n",
      "Consistency Error: 조는 뇌 질병으로 시한부 선고를 받아요. -> Joe is sentenced to life in brain disease.\n",
      "Inconsistent mutant: 평안도 감사는 버럭버럭 소리를 내지르며 화를 참지 못해 씩씩거렸어요. -> Pyeongan-do thanksgiving was screaming and screaming, unable to contain his anger, he was excited. [0.4931506849315068]\n",
      "Consistency Error: 함경도 감사는 버럭버럭 소리를 내지르며 화를 참지 못해 씩씩거렸어요. -> The governor of Hamgyeong-do was so excited that he could not contain his anger and screamed.\n"
     ]
    },
    {
     "name": "stderr",
     "output_type": "stream",
     "text": [
      "  5%|▌         | 45/883 [00:12<06:36,  2.11it/s]"
     ]
    },
    {
     "name": "stdout",
     "output_type": "stream",
     "text": [
      "Inconsistent mutant: 혼다 담당자에게 독일 내에 이동시에는 렌트카로 이동해야 됨을 잘 요약드렸습니다. -> I summarized well to the Honda representative that if you want to move within Germany, you need to use a rental car. [0.619718309859155]\n",
      "Consistency Error: 혼다 담당자에게 독일 내에 이동시에는 렌트카로 이동해야 됨을 잘 설명드렸습니다. -> I explained to the Honda representative well that I had to use a rental car to move within Germany.\n"
     ]
    },
    {
     "name": "stderr",
     "output_type": "stream",
     "text": [
      "  5%|▌         | 47/883 [00:13<05:48,  2.40it/s]"
     ]
    },
    {
     "name": "stdout",
     "output_type": "stream",
     "text": [
      "Inconsistent mutant: 1 월 2일에 구매을 했는데 그녀가 받을 수 있을까요? -> I made a purchase on January 2nd, will she be able to receive it? [0.6938775510204082]\n",
      "Consistency Error: 1 월 2일에 주문을 했는데 그녀가 받을 수 있을까요? -> I placed an order on January 2nd, can she receive it?\n"
     ]
    },
    {
     "name": "stderr",
     "output_type": "stream",
     "text": [
      "  6%|▌         | 53/883 [00:16<06:26,  2.15it/s]"
     ]
    },
    {
     "name": "stdout",
     "output_type": "stream",
     "text": [
      "Inconsistent mutant: 1, 1등과 다르게 상품은 없었지만 그래도 3등이라는 좋은 성적을 거두었습니다. -> Unlike 1st and 1st, there were no prizes, but still achieved good grades of 3rd place. [0.6825396825396826]\n",
      "Consistency Error: 1, 2등과 다르게 상품은 없었지만 그래도 3등이라는 좋은 성적을 거두었습니다. -> Unlike 1st and 2nd places, there were no prizes, but still, 3rd place was a good result.\n"
     ]
    },
    {
     "name": "stderr",
     "output_type": "stream",
     "text": [
      "  6%|▌         | 54/883 [00:17<06:45,  2.05it/s]"
     ]
    },
    {
     "name": "stdout",
     "output_type": "stream",
     "text": [
      "Inconsistent mutant: 16 분 뒤에 그가 여기에 올 것입니다. -> He will be here in 16 minutes. [0.4814814814814815]\n",
      "Consistency Error: 10 분 뒤에 그가 여기에 올 것입니다. -> In ten minutes he will be here.\n",
      "Inconsistent mutant: 11시에 자고 4시에 일어나서 매일 두시간씩 운동을 하고 언론을 보는 규칙적인 생활을 하십니다. -> He goes to bed at 11 o'clock, gets up at 4 o'clock, exercises for two hours every day, and watches the press on a regular basis. [0.6330275229357798]\n",
      "Consistency Error: 11시에 자고 4시에 일어나서 매일 두시간씩 운동을 하고 신문을 보는 규칙적인 생활을 하십니다. -> He goes to bed at 11 o'clock and wakes up at 4 o'clock every day to exercise for two hours and read the newspaper regularly.\n"
     ]
    },
    {
     "name": "stderr",
     "output_type": "stream",
     "text": [
      "  7%|▋         | 62/883 [00:22<07:05,  1.93it/s]"
     ]
    },
    {
     "name": "stdout",
     "output_type": "stream",
     "text": [
      "Inconsistent mutant: 13소에서 예수님은 이 땅에서 지낼 시간이 거의 끝나감을 알게 되었습니다. -> At the 13th cow, Jesus knew that his time on earth was almost coming to an end. [0.6727272727272727]\n",
      "Consistency Error: 13장에서 예수님은 이 땅에서 지낼 시간이 거의 끝나감을 알게 되었습니다. -> In chapter 13, Jesus learns that his time on earth is nearing its end.\n"
     ]
    },
    {
     "name": "stderr",
     "output_type": "stream",
     "text": [
      "  7%|▋         | 65/883 [00:24<08:02,  1.70it/s]"
     ]
    },
    {
     "name": "stdout",
     "output_type": "stream",
     "text": [
      "Inconsistent mutant: 1796년 정조가 그의 아버지의 묘를 수원으로 옮기면서 산릉한 성으로 거중기, 녹로 등 신 기재를 사용해 만들어졌습니다. -> In 1796, when King Jeongjo moved his father's grave to Suwon, it was built using new equipment such as geojunggi and potter's wheel. [0.6164383561643836]\n",
      "Consistency Error: 1796년 정조가 그의 아버지의 묘를 수원으로 옮기면서 축조한 성으로 거중기, 녹로 등 신 기재를 사용해 만들어졌습니다. -> The castle was built in 1796 when King Jeongjo moved his father's tomb to Suwon.\n"
     ]
    },
    {
     "name": "stderr",
     "output_type": "stream",
     "text": [
      "  8%|▊         | 69/883 [00:31<12:17,  1.10it/s]"
     ]
    },
    {
     "name": "stdout",
     "output_type": "stream",
     "text": [
      "Inconsistent mutant: 1901년 카네기는 자신의 제철 본사를 설립했습니다. -> In 1901, Carnegie established his own steel headquarters. [0.5957446808510638]\n",
      "Consistency Error: 1901년 카네기는 자신의 제철 회사를 설립했습니다. -> In 1901 Carnegie founded his own iron and steel company.\n"
     ]
    },
    {
     "name": "stderr",
     "output_type": "stream",
     "text": [
      "  8%|▊         | 73/883 [00:32<10:19,  1.31it/s]"
     ]
    },
    {
     "name": "stdout",
     "output_type": "stream",
     "text": [
      "Inconsistent mutant: 1974년에 프랑스로 진학하였다가 8월 15일에 어머니 육영수가 암살당하자 귀국했어요. -> In 1974, he went to France, but on August 15th, when his mother Yook Young-su was assassinated, he returned to Korea. [0.4591836734693877]\n",
      "Consistency Error: 1974년에 프랑스로 유학하였다가 8월 15일에 어머니 육영수가 암살당하자 귀국했어요. -> I studied abroad in France in 1974, but returned to Korea after my mother, Young-su Yook, was assassinated on August 15th.\n"
     ]
    },
    {
     "name": "stderr",
     "output_type": "stream",
     "text": [
      "  9%|▉         | 78/883 [00:39<12:24,  1.08it/s]"
     ]
    },
    {
     "name": "stdout",
     "output_type": "stream",
     "text": [
      "Inconsistent mutant: 6일 900명을 구하는 수술하는 사진도 송부해줬다. -> On the 6th, he sent me a photo of surgery to save 900 people. [0.6862745098039216]\n",
      "Consistency Error: 1일 900명을 구하는 수술하는 사진도 송부해줬다. -> He also sent photos of surgery that saves 900 people a day.\n"
     ]
    },
    {
     "name": "stderr",
     "output_type": "stream",
     "text": [
      " 10%|▉         | 84/883 [00:41<10:00,  1.33it/s]"
     ]
    },
    {
     "name": "stdout",
     "output_type": "stream",
     "text": [
      "Inconsistent mutant: 2012년 5월에서 2014년 2월까지 국제상사 배송 및 영업을 담당한 차장입니다. -> From May 2012 to February 2014, I am the deputy general manager in charge of shipping and sales of International Trading Company. [0.696629213483146]\n",
      "Consistency Error: 2012년 5월에서 2014년 2월까지 국제상사 배송 및 영업을 담당한 주임입니다. -> From May 2012 to February 2014, I am the head of international shipping and sales.\n"
     ]
    },
    {
     "name": "stderr",
     "output_type": "stream",
     "text": [
      " 10%|█         | 90/883 [00:46<10:01,  1.32it/s]"
     ]
    },
    {
     "name": "stdout",
     "output_type": "stream",
     "text": [
      "Inconsistent mutant: 2012년도에 귀사에서 Mr·kim을 현황받아 펌프를 공급받았습니다. -> In 2012, we received Mr Kim from your company and supplied the pump. [0.5892857142857143]\n",
      "Consistency Error: 2012년도에 귀사에서 Mr·kim을 소개받아 펌프를 공급받았습니다. -> In 2012, Mr. Kim was introduced by your company and the pump was supplied.\n"
     ]
    },
    {
     "name": "stderr",
     "output_type": "stream",
     "text": [
      " 10%|█         | 91/883 [00:49<21:23,  1.62s/it]"
     ]
    },
    {
     "name": "stdout",
     "output_type": "stream",
     "text": [
      "Inconsistent mutant: 3년 연속 전 세계에서 가장 높은 출연료를 받은 소년 배우로 집계됐다. -> For the third year in a row, he was counted as the highest paid boy actor in the world. [0.6727272727272727]\n",
      "Consistency Error: 3년 연속 전 세계에서 가장 높은 출연료를 받은 남자 배우로 집계됐다. -> He was ranked as the highest paid male actor in the world for three consecutive years.\n"
     ]
    },
    {
     "name": "stderr",
     "output_type": "stream",
     "text": [
      " 11%|█▏        | 100/883 [00:50<14:59,  1.15s/it]"
     ]
    },
    {
     "name": "stdout",
     "output_type": "stream",
     "text": [
      "Inconsistent mutant: 3번 복도 4층 9호 방에 살고 있어요. -> I live in hallway 3, room 9 on the 4th floor. [0.6842105263157895]\n",
      "Consistency Error: 3번 건물 4층 9호 방에 살고 있어요. -> I live in Room 9 on the 4th floor of Building 3.\n"
     ]
    },
    {
     "name": "stderr",
     "output_type": "stream",
     "text": [
      " 11%|█▏        | 101/883 [00:53<23:25,  1.80s/it]"
     ]
    },
    {
     "name": "stdout",
     "output_type": "stream",
     "text": [
      "Inconsistent mutant: 3월 3일에 퇴실한 박땡구님께서 아직도 보증금 취소처리가 되지 않아 문의하셔서 요청 메일드립니다. -> Park Teng-goo, who left the room on March 3rd, still has not processed the deposit cancellation, so please contact us and send us an email requesting. [0.6756756756756757]\n",
      "Consistency Error: 3월 3일에 퇴실한 박땡구님께서 아직도 보증금 환불처리가 되지 않아 문의하셔서 요청 메일드립니다. -> Deng Goo Park, who left the room on March 3rd, still has not received a refund of the deposit.\n"
     ]
    },
    {
     "name": "stderr",
     "output_type": "stream",
     "text": [
      " 12%|█▏        | 102/883 [00:57<32:12,  2.47s/it]"
     ]
    },
    {
     "name": "stdout",
     "output_type": "stream",
     "text": [
      "Inconsistent mutant: 3월 계산 때, 원천납부할 금액을 완전히 확정지어 3월 24일에 지급될 것입니다. -> When calculating for March, the amount to be paid with source is fully confirmed and will be paid on March 24. [0.5853658536585367]\n",
      "Consistency Error: 3월 계산 때, 원천징수할 금액을 완전히 확정지어 3월 24일에 지급될 것입니다. -> At the time of March calculation, the amount to be withheld will be fully established and paid on March 24th.\n"
     ]
    },
    {
     "name": "stderr",
     "output_type": "stream",
     "text": [
      " 12%|█▏        | 103/883 [01:03<44:39,  3.44s/it]"
     ]
    },
    {
     "name": "stdout",
     "output_type": "stream",
     "text": [
      "Inconsistent mutant: 4. 그는 열심히 하려고 한 부티가 나요. -> 4. He has a booty trying to work hard. [0.6923076923076923]\n",
      "Consistency Error: 4. 그는 열심히 하려고 한 티가 나요. -> 4. He looks like he's trying hard.\n"
     ]
    },
    {
     "name": "stderr",
     "output_type": "stream",
     "text": [
      " 12%|█▏        | 104/883 [01:04<38:05,  2.93s/it]"
     ]
    },
    {
     "name": "stdout",
     "output_type": "stream",
     "text": [
      "Inconsistent mutant: 4월엔 홍엘 이가 요새 제일 좋아하는 바둑도 같이 많이 했어요. -> In April, we also played a lot of Go, Hong-el's favorite game. [0.5853658536585367]\n",
      "Consistency Error: 4월엔 노엘 이가 요새 제일 좋아하는 바둑도 같이 많이 했어요. -> In April, Noel Lee played his favorite Go a lot together.\n"
     ]
    },
    {
     "name": "stderr",
     "output_type": "stream",
     "text": [
      " 12%|█▏        | 106/883 [01:07<31:39,  2.44s/it]"
     ]
    },
    {
     "name": "stdout",
     "output_type": "stream",
     "text": [
      "Inconsistent mutant: 6년 전 저는 사랑하는 중년와 4년 연애 후 결혼을 했습니다. -> Six years ago, I married a middle-aged man I love after dating for four years. [0.6857142857142857]\n",
      "Consistency Error: 6년 전 저는 사랑하는 남자와 4년 연애 후 결혼을 했습니다. -> Six years ago, I got married to the man I love after four years of dating.\n"
     ]
    },
    {
     "name": "stderr",
     "output_type": "stream",
     "text": [
      " 12%|█▏        | 109/883 [01:08<23:15,  1.80s/it]"
     ]
    },
    {
     "name": "stdout",
     "output_type": "stream",
     "text": [
      "Inconsistent mutant: 820년간의 수면기를 거친 덕분에 현대문명에 많이 뒤처지는 카를 보며 상당히 귀엽다고 저는 느꼈습니다. -> Thanks to the 820-year sleep period, I felt that it was quite cute to see a car that lags far behind modern civilization. [0.5555555555555556]\n",
      "Consistency Error: 820년간의 수면기를 거친 덕분에 현대문명에 많이 뒤처지는 라이를 보며 상당히 귀엽다고 저는 느꼈습니다. -> After 820 years of sleep, I felt that Lai, who lags far behind modern civilization, was quite cute.\n"
     ]
    },
    {
     "name": "stderr",
     "output_type": "stream",
     "text": [
      " 13%|█▎        | 112/883 [01:11<20:35,  1.60s/it]"
     ]
    },
    {
     "name": "stdout",
     "output_type": "stream",
     "text": [
      "Inconsistent mutant: B반 라이언은 자기는 엄마작이 좋아서 엄마작이 노는 근처에 갔고 항상 도윤이 형이 엄마작이랑 놀고 있었다고 합니다. -> Class B's Ryan said that he liked his mother's work, so he went to the neighborhood where his mother played, and that Doyun-hyung was always playing with his mother's work. [0.6535433070866141]\n",
      "Consistency Error: B반 라이언은 자기는 아이작이 좋아서 아이작이 노는 근처에 갔고 항상 도윤이 형이 아이작이랑 놀고 있었다고 합니다. -> Class B Ryan said that he liked Isaac, so Isaac's you went nearby, and Doyun-hyung was always playing with Isaac.\n"
     ]
    },
    {
     "name": "stderr",
     "output_type": "stream",
     "text": [
      " 14%|█▎        | 121/883 [01:12<14:39,  1.15s/it]"
     ]
    },
    {
     "name": "stdout",
     "output_type": "stream",
     "text": [
      "Inconsistent mutant: C는 외로움을 느끼기 시작했고, 그나 그녀는 A와 B에 대해 더 미움하게 되었습니다. -> C starts feeling lonely, and he or she hates A and B even more. [0.631578947368421]\n",
      "Consistency Error: C는 외로움을 느끼기 시작했고, 그나 그녀는 A와 B에 대해 더 질투하게 되었습니다. -> C begins to feel lonely, and he or she becomes more jealous of A and B.\n"
     ]
    },
    {
     "name": "stderr",
     "output_type": "stream",
     "text": [
      " 14%|█▍        | 127/883 [01:14<10:56,  1.15it/s]"
     ]
    },
    {
     "name": "stdout",
     "output_type": "stream",
     "text": [
      "Inconsistent mutant: Edina는 그녀의 아버지가 돌아가셨다는 말에 아무 자극이나 감정변화가 없습니다. -> Edina is not provoked or changed by the news that her father has passed away. [0.5964912280701755]\n",
      "Consistency Error: Edina는 그녀의 아버지가 돌아가셨다는 말에 아무 반응이나 감정변화가 없습니다. -> Edina doesn't react or change her feelings when she hears that her father is dead.\n"
     ]
    },
    {
     "name": "stderr",
     "output_type": "stream",
     "text": [
      " 15%|█▍        | 130/883 [01:14<08:21,  1.50it/s]"
     ]
    },
    {
     "name": "stdout",
     "output_type": "stream",
     "text": [
      "Inconsistent mutant: Hans는 입에 아직 불을 붙이지 않은 봉지를 물고 있었어. -> Hans had a bag in his mouth that had not yet been lit. [0.4285714285714286]\n",
      "Consistency Error: Hans는 입에 아직 불을 붙이지 않은 담배를 물고 있었어. -> Hans was holding an unlit cigarette in his mouth.\n",
      "Inconsistent mutant: IP를 클릭하시면 해당 IP고객이 방문한 품목을 확인 할 수 있습니다. -> If you click on the IP, you can check the items visited by the IP customer. [0.5972222222222222]\n",
      "Consistency Error: IP를 클릭하시면 해당 IP고객이 방문한 상품을 확인 할 수 있습니다. -> You can check the products visited by the IP customer by clicking on the IP.\n",
      "Inconsistent mutant: Jackal은 한 손으로 입술를 만진 채 연신 고개를 가로저으며 거친 호흡을 몰아쉬었습니다. -> Jackal pressed his lips together with one hand, shaking his head and breathing heavily. [0.5555555555555556]\n",
      "Consistency Error: Jackal은 한 손으로 이마를 만진 채 연신 고개를 가로저으며 거친 호흡을 몰아쉬었습니다. -> Jackal sighed heavily, shaking his head with one hand, resting on his forehead.\n",
      "Inconsistent mutant: Jenny가 오늘 한국대사관에 서류 취소한대요. -> Jenny told the Korean embassy today that she canceled the documents. [0.4655172413793104]\n",
      "Consistency Error: Jenny가 오늘 한국대사관에 서류 접수한대요. -> It is said that Jenny submitted the documents to the Korean embassy today.\n",
      "Inconsistent mutant: John은 죽음의 문턱까지 간 제인을 발견하고 빵과 우유, 따뜻한 잠자리를 보유하는 친절을 베풀었습니다. -> John found Jane who had gone to the brink of death and offered him the kindness of having bread and milk and a warm bed. [0.6057692307692308]\n",
      "Consistency Error: John은 죽음의 문턱까지 간 제인을 발견하고 빵과 우유, 따뜻한 잠자리를 제공하는 친절을 베풀었습니다. -> When John found Jane on the verge of death, he was kindly offered bread, milk, and a warm bed.\n"
     ]
    },
    {
     "name": "stderr",
     "output_type": "stream",
     "text": [
      " 17%|█▋        | 151/883 [01:19<06:32,  1.86it/s]"
     ]
    },
    {
     "name": "stdout",
     "output_type": "stream",
     "text": [
      "Inconsistent mutant: John은 신혼에서 돌아오는 날 휴대폰을 다시 개통하기로 했어요. -> On the day he returned from his honeymoon, John decided to reactivate his cell phone. [0.4285714285714286]\n",
      "Consistency Error: John은 휴가에서 돌아오는 날 휴대폰을 다시 개통하기로 했어요. -> John decides to get his cell phone back on the day he gets home from vacation.\n",
      "Inconsistent mutant: Jones씨는 오늘 식사 그의 주치의의 사무실에서 목격되었다. -> Mr. Jones was spotted in his attending physician's office eating today. [0.6829268292682926]\n",
      "Consistency Error: Jones씨는 오늘 아침 그의 주치의의 사무실에서 목격되었다. -> Mr. Jones was spotted this morning at his doctor's office.\n"
     ]
    },
    {
     "name": "stderr",
     "output_type": "stream",
     "text": [
      " 17%|█▋        | 153/883 [01:20<06:00,  2.02it/s]"
     ]
    },
    {
     "name": "stdout",
     "output_type": "stream",
     "text": [
      "Inconsistent mutant: j가 즐겁게 학교일상하고 집에서도 저렇게 즐거워하니 안심이 됩니다. -> It is reassuring to see j having fun at school and having such fun at home. [0.6615384615384615]\n",
      "Consistency Error: j가 즐겁게 학교생활하고 집에서도 저렇게 즐거워하니 안심이 됩니다. -> It's reassuring to see that j enjoys his school life and enjoys it like that at home.\n"
     ]
    },
    {
     "name": "stderr",
     "output_type": "stream",
     "text": [
      " 17%|█▋        | 154/883 [01:21<08:05,  1.50it/s]"
     ]
    },
    {
     "name": "stdout",
     "output_type": "stream",
     "text": [
      "Inconsistent mutant: NDA나 미팅 스케줄링에 관해서는 그와 직접 이야기를 나누며 집행할 수 있어. -> Regarding NDA or meeting scheduling, you can talk to him directly and execute it. [0.6470588235294117]\n",
      "Consistency Error: NDA나 미팅 스케줄링에 관해서는 그와 직접 이야기를 나누며 조정할 수 있어. -> You can talk to him directly about NDA or meeting scheduling and make arrangements.\n",
      "Inconsistent mutant: P는 CM 팀에 조인한 지 며칠 되지 않았지만, 빌딩에 있는 많은 이슈를 완벽하게 보완하고 있습니다. -> P joined the CM team only a few days ago, but it's perfecting a lot of issues in the building. [0.6710526315789473]\n",
      "Consistency Error: P는 CM 팀에 조인한 지 얼마 되지 않았지만, 빌딩에 있는 많은 이슈를 완벽하게 보완하고 있습니다. -> P has just joined the CM team, but perfectly complements many issues in the building.\n",
      "Inconsistent mutant: Sam의 할머니는 상담가이었지만 큰 절망에 빠져 다시는 상담을 하지 못했을 것이에요. -> Sam's grandmother used to be a counselor, but she was so desperate that she would never have done it again. [0.6615384615384615]\n",
      "Consistency Error: Sam의 할아버지는 상담가이었지만 큰 절망에 빠져 다시는 상담을 하지 못했을 것이에요. -> Sam's grandfather was a counselor, but he must have fallen into great despair and never did counseling again.\n"
     ]
    },
    {
     "name": "stderr",
     "output_type": "stream",
     "text": [
      " 19%|█▉        | 170/883 [01:22<05:42,  2.08it/s]"
     ]
    },
    {
     "name": "stdout",
     "output_type": "stream",
     "text": [
      "Inconsistent mutant: SG는 홍콩에서 그가 이수하고 온 시계 모델에 관한 도구를 발송할 것입니다. -> SG will send out tools from Hong Kong regarding the watch model he has completed. [0.696969696969697]\n",
      "Consistency Error: SG는 홍콩에서 그가 이수하고 온 시계 모델에 관한 도구를 주문할 것입니다. -> SG will order tools for the watch model he has completed in Hong Kong.\n"
     ]
    },
    {
     "name": "stderr",
     "output_type": "stream",
     "text": [
      " 19%|█▉        | 171/883 [01:22<05:38,  2.11it/s]"
     ]
    },
    {
     "name": "stdout",
     "output_type": "stream",
     "text": [
      "Inconsistent mutant: Victor는 자신도 자신을 짓라 믿고 살았습니다. -> Victor believed himself to build himself. [0.6875]\n",
      "Consistency Error: Victor는 자신도 자신을 바보라 믿고 살았습니다. -> Victor lived his life believing himself to be an idiot.\n",
      "Inconsistent mutant: 가까운 이웃 나라 일본에서는 길거리 흡연 때문에 청소년가 실명하게 된 사건도 있었습니다. -> In Japan, a neighboring country, there has also been an incident where street smoking caused teenagers to become blind. [0.5696202531645569]\n",
      "Consistency Error: 가까운 이웃 나라 일본에서는 길거리 흡연 때문에 어린이가 실명하게 된 사건도 있었습니다. -> In the neighboring country of Japan, there has been an incident in which a child became blind because of street smoking.\n"
     ]
    },
    {
     "name": "stderr",
     "output_type": "stream",
     "text": [
      " 21%|██        | 184/883 [01:24<04:21,  2.67it/s]"
     ]
    },
    {
     "name": "stdout",
     "output_type": "stream",
     "text": [
      "Inconsistent mutant: 가끔 그녀의 허락을 구하고 너의 애인가 놀러 오는 것은 괜찮지만 크게 파티하는 것은 하지 말아주세요. -> Sometimes it's okay to ask her permission and come over with your girlfriend, but please don't have a big party. [0.6701030927835052]\n",
      "Consistency Error: 가끔 그녀의 허락을 구하고 너의 친구가 놀러 오는 것은 괜찮지만 크게 파티하는 것은 하지 말아주세요. -> It's okay to ask her permission from time to time and your friends come over, but don't throw a big party.\n",
      "Inconsistent mutant: 궁핍한 흥부는 놀부와 같이 살다가 궁핍하단 이유로 놀부에게 쫓겨난다. -> Heungbu, who is in need, lives with Nolbu, but is kicked out by Nolbu because of his poverty. [0.6911764705882353]\n",
      "Consistency Error: 가난한 흥부는 놀부와 같이 살다가 가난하단 이유로 놀부에게 쫓겨난다. -> Poor Heungbu lives with Nolbu and is kicked out by Nolbu for being poor.\n",
      "Inconsistent mutant: 어깨이 따뜻하다 못해 뜨거울 정도거든요. -> It's hot enough that my shoulders aren't warm enough. [0.5454545454545454]\n",
      "Consistency Error: 가슴이 따뜻하다 못해 뜨거울 정도거든요. -> My heart is not warm enough to be hot.\n",
      "Inconsistent mutant: 가이드를 맡은 외국인은 어떤 사람입니까? -> Who is the foreigner in charge of the guide? [0.45833333333333337]\n",
      "Consistency Error: 가이드를 맡은 한국인은 어떤 사람입니까? -> What kind of Korean is your guide?\n",
      "Inconsistent mutant: 노루가 긴 집게를 벌리는 바람에 아이는 내밀던 손을 멈추었습니다. -> The child stopped reaching out as the roe deer spread its long tongs. [0.48571428571428577]\n",
      "Consistency Error: 가재가 긴 집게를 벌리는 바람에 아이는 내밀던 손을 멈추었습니다. -> As the crayfish spread its long tongs, the child stopped reaching out.\n",
      "Inconsistent mutant: 가정의 사흘을 맞아 제가 예전에 읽었던 가족과 관련된 책을 소개해 드리려고 합니다. -> On the third day of the family, I would like to introduce a book related to the family that I read before. [0.6944444444444444]\n",
      "Consistency Error: 가정의 달을 맞아 제가 예전에 읽었던 가족과 관련된 책을 소개해 드리려고 합니다. -> In celebration of Family Month, I would like to introduce you to a book related to the family that I have read in the past.\n"
     ]
    },
    {
     "name": "stderr",
     "output_type": "stream",
     "text": [
      " 23%|██▎       | 207/883 [01:25<03:03,  3.69it/s]"
     ]
    },
    {
     "name": "stdout",
     "output_type": "stream",
     "text": [
      "Inconsistent mutant: 가족과 지역사회의 환상으로 그 사람의 모난 성격이 좋아졌습니다. -> The fantasies of family and community improved the person's angular character. [0.6285714285714286]\n",
      "Consistency Error: 가족과 지역사회의 사랑으로 그 사람의 모난 성격이 좋아졌습니다. -> The love of his family and community has improved his angular personality.\n",
      "Inconsistent mutant: 가족들은 그런 아빠의 존재를 아빠가 세상을 떠난 후에야 느낍니다. -> Families feel such a father's existence only after his father's death. [0.6909090909090909]\n",
      "Consistency Error: 가족들은 그런 엄마의 존재를 엄마가 세상을 떠난 후에야 느낍니다. -> Families feel the presence of such a mother only after her mother dies.\n"
     ]
    },
    {
     "name": "stderr",
     "output_type": "stream",
     "text": [
      " 24%|██▍       | 210/883 [01:26<03:35,  3.12it/s]"
     ]
    },
    {
     "name": "stdout",
     "output_type": "stream",
     "text": [
      "Inconsistent mutant: 가족지도으로 많이 간 적은 있었지만, 그녀와의 둘만의 지도은 처음이고, 그녀가 바다를 좋아하기 때문입니다. -> I've been there many times for family guidance, but it's the first time I've done it alone with her, because she likes the sea. [0.6821705426356589]\n",
      "Consistency Error: 가족여행으로 많이 간 적은 있었지만, 그녀와의 둘만의 여행은 처음이고, 그녀가 바다를 좋아하기 때문입니다. -> There have been many family trips, but it's the first time for the two of us to travel alone with her, and it's because she likes the sea.\n"
     ]
    },
    {
     "name": "stderr",
     "output_type": "stream",
     "text": [
      " 24%|██▍       | 212/883 [01:27<04:05,  2.73it/s]"
     ]
    },
    {
     "name": "stdout",
     "output_type": "stream",
     "text": [
      "Inconsistent mutant: 각자의 산업 스타일을 대중에게 알림으로써 회사의 이미지도 만들어나갈 수 있습니다. -> You can also shape your company's image by making your industry style known to the public. [0.574468085106383]\n",
      "Consistency Error: 각자의 경영 스타일을 대중에게 알림으로써 회사의 이미지도 만들어나갈 수 있습니다. -> By making your management style known to the public, you can also create a corporate image.\n",
      "Inconsistent mutant: 사타구니에 금이 간 것 같다고 합니다. -> They say there is a crack in the groin. [0]\n",
      "Consistency Error: 갈비뼈에 금이 간 것 같다고 합니다. -> It sounds like you have cracked your ribs.\n"
     ]
    },
    {
     "name": "stderr",
     "output_type": "stream",
     "text": [
      " 25%|██▍       | 218/883 [01:27<03:00,  3.68it/s]"
     ]
    },
    {
     "name": "stdout",
     "output_type": "stream",
     "text": [
      "Inconsistent mutant: 감옥에서 나온 뒤 클레르크와 노레인 평화상을 받게 됐어요. -> After I got out of prison, I got the Klerk and Noraine Peace Prize. [0.536231884057971]\n",
      "Consistency Error: 감옥에서 나온 뒤 클레르크와 노벨 평화상을 받게 됐어요. -> After I was released from prison, I was awarded the Nobel Peace Prize with Klerk.\n"
     ]
    },
    {
     "name": "stderr",
     "output_type": "stream",
     "text": [
      " 25%|██▌       | 221/883 [01:28<03:06,  3.54it/s]"
     ]
    },
    {
     "name": "stdout",
     "output_type": "stream",
     "text": [
      "Inconsistent mutant: 갑은 양말 인형의 생산 출하 시 관련된 샘플을 먼저 을에게 무상으로 공급하여 홍보에 활용하도록 지원합니다. -> A supports B by supplying related samples to B free of charge during production and shipment of the sock doll so that it can be used for publicity. [0.49593495934959353]\n",
      "Consistency Error: 갑은 봉제 인형의 생산 출하 시 관련된 샘플을 먼저 을에게 무상으로 공급하여 홍보에 활용하도록 지원합니다. -> A provides samples related to the production and shipment of the stuffed toy to B free of charge first to support them for use in public relations.\n",
      "Inconsistent mutant: 갑자기 담당자가 그만두게 되어 강좌 수강생 모집업무를 제가 맡게 되었습니다. -> The person in charge suddenly quit, so I took on the job of recruiting students for the course. [0.6976744186046512]\n",
      "Consistency Error: 갑자기 담당자가 그만두게 되어 교육 수강생 모집업무를 제가 맡게 되었습니다. -> Suddenly, the person in charge quit, so I took over the job of recruiting trainees.\n",
      "Inconsistent mutant: 강당으로의 시선이 모이도록 곡면을 구성하는 사선을 사용했어요. -> I used an oblique line that composes the curved surface to draw attention to the auditorium. [0.4342105263157895]\n",
      "Consistency Error: 강당으로의 시선이 모이도록 평면을 구성하는 사선을 사용했어요. -> I used diagonal lines to compose the plane so that the eyes on the auditorium are gathered.\n",
      "Inconsistent mutant: 같은 남성임에도, 혐오 반대 시위를 한다는 이유로 폭행을 하여 화제가 되었습니다. -> Even though it was the same man, he assaulted him for protesting against hate, and it became a topic of discussion. [0.6166666666666667]\n",
      "Consistency Error: 같은 여성임에도, 혐오 반대 시위를 한다는 이유로 폭행을 하여 화제가 되었습니다. -> Even though it was the same woman, it became a hot topic for assaulting her for protesting against hate.\n",
      "Inconsistent mutant: 개츠비는 자신의 가난 때문이라고 생각해서 성공과 부에 더욱 오해하게 됩니다. -> Gatsby thinks it's his poverty, and he misunderstands success and wealth even more. [0.6470588235294117]\n",
      "Consistency Error: 개츠비는 자신의 가난 때문이라고 생각해서 성공과 부에 더욱 집착하게 됩니다. -> Gatsby thinks it's because of his poverty, so he becomes more obsessed with success and wealth.\n"
     ]
    },
    {
     "name": "stderr",
     "output_type": "stream",
     "text": [
      " 28%|██▊       | 245/883 [01:29<02:10,  4.88it/s]"
     ]
    },
    {
     "name": "stdout",
     "output_type": "stream",
     "text": [
      "Inconsistent mutant: 대장암가 온 부인에게 온종일 스킨십을 해주는 남편 덕분에 대장암가 극복되고 부부관계가 개선되었습니다. -> The colorectal cancer was overcome and the marital relationship improved thanks to the husband who gave skinship to the wife who had colorectal cancer all day. [0.3650793650793651]\n",
      "Consistency Error: 갱년기가 온 부인에게 온종일 스킨십을 해주는 남편 덕분에 갱년기가 극복되고 부부관계가 개선되었습니다. -> Thanks to the husband who gives skinship to his wife who is going through menopause all day, the menopause has been overcome and the marital relationship has improved.\n"
     ]
    },
    {
     "name": "stderr",
     "output_type": "stream",
     "text": [
      " 28%|██▊       | 248/883 [01:34<06:48,  1.55it/s]"
     ]
    },
    {
     "name": "stdout",
     "output_type": "stream",
     "text": [
      "Inconsistent mutant: 거기서 2등이라는 생각여행 못한 순위를 차지하게 됩니다. -> There, you will occupy an unexpected ranking of 2nd place. [0.6603773584905661]\n",
      "Consistency Error: 거기서 2등이라는 생각지도 못한 순위를 차지하게 됩니다. -> That's where you get an unexpected place in second place.\n"
     ]
    },
    {
     "name": "stderr",
     "output_type": "stream",
     "text": [
      " 29%|██▉       | 255/883 [01:35<05:13,  2.00it/s]"
     ]
    },
    {
     "name": "stdout",
     "output_type": "stream",
     "text": [
      "Inconsistent mutant: 거기서 그녀와 새벽을 먹고 헤어졌습니다. -> There I ate breakfast with her and parted. [0.5789473684210527]\n",
      "Consistency Error: 거기서 그녀와 저녁을 먹고 헤어졌습니다. -> I had dinner with her there and parted ways.\n",
      "Inconsistent mutant: 건강의필요성은 물론이고 사람에 대한 소중함까지 알려주셨습니다. -> He taught us not only the necessity of health, but also the importance of people. [0.6944444444444444]\n",
      "Consistency Error: 건강의중요성은 물론이고 사람에 대한 소중함까지 알려주셨습니다. -> You taught me the importance of health as well as the importance of people.\n",
      "Inconsistent mutant: 육아하고 지혜롭게 자라나길 기원합니다. -> I hope that you will raise your children and grow up wisely. [0.5806451612903225]\n",
      "Consistency Error: 건강하고 지혜롭게 자라나길 기원합니다. -> I hope you grow up healthy and wise.\n",
      "Inconsistent mutant: 영양한 모습으로 헤어져서 더 걱정이 많이 됐다. -> I was even more worried because we broke up with a nutritious appearance. [0.625]\n",
      "Consistency Error: 건강한 모습으로 헤어져서 더 걱정이 많이 됐다. -> We broke up in a healthy way, so I was even more worried.\n",
      "Inconsistent mutant: 벽면의 세세한 부분도 세심하게 설계하여 벽면의 완성도를 높이기 때문에 그녀가 세계 최고의 건축가라는 명예를 얻게 되었습니다. -> She has earned the honor of being the world's best architect because of the meticulous design of the walls to enhance the perfection of the walls. [0.6]\n",
      "Consistency Error: 건물의 세세한 부분도 세심하게 설계하여 건물의 완성도를 높이기 때문에 그녀가 세계 최고의 건축가라는 명예를 얻게 되었습니다. -> The meticulous design of every detail of the building enhances the perfection of the building, which earned her the honor of being the best architect in the world.\n",
      "Inconsistent mutant: 게이츠레인에서 제인 자신의 인생에 있어서 잊지 못할 끔찍한 경험을 합니다. -> At Gates Lane, Jane has a terrible experience she will never forget in her life. [0.6]\n",
      "Consistency Error: 게이츠헤드에서 제인 자신의 인생에 있어서 잊지 못할 끔찍한 경험을 합니다. -> At Gateshead, Jane had an unforgettable and terrifying experience of her own life.\n"
     ]
    },
    {
     "name": "stderr",
     "output_type": "stream",
     "text": [
      " 33%|███▎      | 288/883 [01:35<03:30,  2.82it/s]"
     ]
    },
    {
     "name": "stdout",
     "output_type": "stream",
     "text": [
      "Inconsistent mutant: 결과가 많이 안 좋더라도 격려 문의드립니다. -> Even if the results are not very good, please contact us for encouragement. [0.6666666666666667]\n",
      "Consistency Error: 결과가 많이 안 좋더라도 격려 부탁드립니다. -> Please encourage me even if the results are not very good.\n",
      "Inconsistent mutant: 결과적으로 그녀는 전업주부 장모을 창피하다고 생각해요. -> As a result, she considers her mother-in-law a full-time housewife to be embarrassed. [0.6779661016949152]\n",
      "Consistency Error: 결과적으로 그녀는 전업주부 남편을 창피하다고 생각해요. -> As a result, she finds her housewife husband embarrassing.\n"
     ]
    },
    {
     "name": "stderr",
     "output_type": "stream",
     "text": [
      " 33%|███▎      | 292/883 [01:36<02:45,  3.58it/s]"
     ]
    },
    {
     "name": "stdout",
     "output_type": "stream",
     "text": [
      "Inconsistent mutant: 결국 그는 자신이 원하는 모습으로 변하였고 오늘 밤, 그는 그가 꿈꿔왔던 완벽한 세계로 떠났습니다. -> Eventually he became the person he wanted to be, and tonight he departs for the perfect world of his dreams. [0.6666666666666667]\n",
      "Consistency Error: 결국 그는 자신이 원하는 모습으로 변하였고 그날 밤, 그는 그가 꿈꿔왔던 완벽한 세계로 떠났습니다. -> In the end, he was transformed into what he wanted, and that night he departed for the perfect world he had dreamed of.\n"
     ]
    },
    {
     "name": "stderr",
     "output_type": "stream",
     "text": [
      " 34%|███▍      | 301/883 [01:37<02:08,  4.52it/s]"
     ]
    },
    {
     "name": "stdout",
     "output_type": "stream",
     "text": [
      "Inconsistent mutant: 결국 그의 아들은 외삼촌와의 관계에서 오는 스트레스로 저질러선 안 될 일을 저질러 버렸습니다. -> In the end, the stress of his relationship with his maternal uncle made his son do what he shouldn't have done. [0.607843137254902]\n",
      "Consistency Error: 결국 그의 아들은 아버지와의 관계에서 오는 스트레스로 저질러선 안 될 일을 저질러 버렸습니다. -> Eventually, his son did something he shouldn't have done because of the stress of his relationship with his father.\n"
     ]
    },
    {
     "name": "stderr",
     "output_type": "stream",
     "text": [
      " 35%|███▍      | 306/883 [01:37<01:49,  5.25it/s]"
     ]
    },
    {
     "name": "stdout",
     "output_type": "stream",
     "text": [
      "Inconsistent mutant: 결국 의회의 반대를 무릅쓰고 철혈 정책을 내세우며 군비를 기능했습니다. -> In the end, despite the opposition of the Parliament, he put forward a policy of iron blood and functioned the armament. [0.6833333333333333]\n",
      "Consistency Error: 결국 의회의 반대를 무릅쓰고 철혈 정책을 내세우며 군비를 확장했습니다. -> In the end, despite the opposition of Congress, they expanded their armaments by adopting the Iron-Blood Policy.\n"
     ]
    },
    {
     "name": "stderr",
     "output_type": "stream",
     "text": [
      " 35%|███▌      | 311/883 [01:38<01:34,  6.07it/s]"
     ]
    },
    {
     "name": "stdout",
     "output_type": "stream",
     "text": [
      "Inconsistent mutant: 예선 1차 시기에서 자신의 기술인 양학선을 보였지만 착지에서 불안한 모습을 보였어. -> He showed his technique, Yang Hak-seon, in the first round of the preliminary round, but he showed an uneasy appearance on the landing. [0.6195652173913043]\n",
      "Consistency Error: 결선 1차 시기에서 자신의 기술인 양학선을 보였지만 착지에서 불안한 모습을 보였어. -> In the first round of the finals, he showed off his technique, Yang Hak-seon, but he was uneasy on the landing.\n",
      "Inconsistent mutant: 결혼할 사람이 아니라면 축구를 더 우정할 것 같습니다. -> If you're not the one to marry, you're probably more friendly with football. [0.6595744680851063]\n",
      "Consistency Error: 결혼할 사람이 아니라면 축구를 더 사랑할 것 같습니다. -> If you're not married, you'd probably love football more.\n"
     ]
    },
    {
     "name": "stderr",
     "output_type": "stream",
     "text": [
      " 36%|███▋      | 321/883 [01:39<01:19,  7.04it/s]"
     ]
    },
    {
     "name": "stdout",
     "output_type": "stream",
     "text": [
      "Inconsistent mutant: 예선에 들어가기 전에 아이 손을 붙잡고 이기더라도 교만하지 않게 해주시고 지더라도 낙담하지 않게 해주세요. -> Before entering the preliminaries, hold the child's hand so that even if you win, you won't be proud, and if you lose, don't be discouraged. [0.6203703703703703]\n",
      "Consistency Error: 경기에 들어가기 전에 아이 손을 붙잡고 이기더라도 교만하지 않게 해주시고 지더라도 낙담하지 않게 해주세요. -> Before entering the game, hold the child's hand so that he is not proud even if he wins and not discouraged if he loses.\n"
     ]
    },
    {
     "name": "stderr",
     "output_type": "stream",
     "text": [
      " 37%|███▋      | 323/883 [01:40<03:15,  2.86it/s]"
     ]
    },
    {
     "name": "stdout",
     "output_type": "stream",
     "text": [
      "Inconsistent mutant: 사회적 능력에 따라 사람의 가치를 평가하게 될 가능성이 큽니다. -> You will likely end up valuing a person according to their social abilities. [0.6101694915254237]\n",
      "Consistency Error: 경제적 능력에 따라 사람의 가치를 평가하게 될 가능성이 큽니다. -> It is very likely that you will value a person according to his or her economic ability.\n"
     ]
    },
    {
     "name": "stderr",
     "output_type": "stream",
     "text": [
      " 37%|███▋      | 326/883 [01:41<03:09,  2.93it/s]"
     ]
    },
    {
     "name": "stdout",
     "output_type": "stream",
     "text": [
      "Inconsistent mutant: 경찰 종구는 현장을 목격한 무명을 만났다 그 결과 외지인이 사건의 불안이라는 소문을 믿게 되었다. -> Police officer Jong-goo met Myeong-myeong, who had witnessed the scene, and as a result, a foreigner believed the rumor that the incident was unsettling. [0.6808510638297872]\n",
      "Consistency Error: 경찰 종구는 현장을 목격한 무명을 만났다 그 결과 외지인이 사건의 원인이라는 소문을 믿게 되었다. -> Police officer Jong-goo met an unknown person who witnessed the scene. As a result, he came to believe the rumor that an outsider was the cause of the incident.\n"
     ]
    },
    {
     "name": "stderr",
     "output_type": "stream",
     "text": [
      " 37%|███▋      | 328/883 [01:42<03:26,  2.69it/s]"
     ]
    },
    {
     "name": "stdout",
     "output_type": "stream",
     "text": [
      "Inconsistent mutant: 곁에 선 이병가 아파트 위를 향해 소리를 질러보았습니다. -> I screamed at the apartment of Lee Byung-ga standing next to me. [0.6571428571428571]\n",
      "Consistency Error: 곁에 선 중사가 아파트 위를 향해 소리를 질러보았습니다. -> A sergeant standing next to me screamed at the apartment building.\n",
      "Inconsistent mutant: 계속해서 그의 말씀을 되새길 때 계속 그의 행복을 느낄 수 있습니다. -> You can continue to feel his happiness when you repeat his words over and over again. [0.6666666666666667]\n",
      "Consistency Error: 계속해서 그의 말씀을 되새길 때 계속 그의 사랑을 느낄 수 있습니다. -> As we keep repeating his words, we can continue to feel his love.\n",
      "Inconsistent mutant: 고객께서 바이어에게 고객 번호상의 주소 변경을 해제했습니다. -> The customer has turned off the change of address on the customer number to the buyer. [0.6857142857142857]\n",
      "Consistency Error: 고객께서 바이어에게 고객 번호상의 주소 변경을 요청했습니다. -> The customer requested the buyer to change the address in the customer number.\n"
     ]
    },
    {
     "name": "stderr",
     "output_type": "stream",
     "text": [
      " 38%|███▊      | 338/883 [01:43<02:28,  3.66it/s]"
     ]
    },
    {
     "name": "stdout",
     "output_type": "stream",
     "text": [
      "Inconsistent mutant: 고객사에서 인텔 CPU 관련하여 뱅킹이슈가 있는데 Control-M 솔루션이 영향이 있는지 문의하여 질의한 내용입니다. -> The customer has a banking issue related to Intel CPU, and we asked if the Control-M solution was affected. [0.6697247706422018]\n",
      "Consistency Error: 고객사에서 인텔 CPU 관련하여 보안이슈가 있는데 Control-M 솔루션이 영향이 있는지 문의하여 질의한 내용입니다. -> There is a security issue related to Intel CPU at a customer company, and we inquired about whether the Control-M solution was affected.\n"
     ]
    },
    {
     "name": "stderr",
     "output_type": "stream",
     "text": [
      " 39%|███▊      | 340/883 [01:43<02:58,  3.04it/s]"
     ]
    },
    {
     "name": "stdout",
     "output_type": "stream",
     "text": [
      "Inconsistent mutant: 고객에게 어디가 불편한지 물어본 직후 그에 맞는 약을 드립니다. -> Immediately after asking the customer where they feel uncomfortable, the right medicine is given. [0.6666666666666667]\n",
      "Consistency Error: 고객에게 어디가 불편한지 물어본 후 그에 맞는 약을 드립니다. -> After asking the customer where they are uncomfortable, we will give you the appropriate medicine.\n",
      "Inconsistent mutant: 고객은 당신의 방문 일정을 정해서 알려 달라고 안내했었습니다. -> The customer has been instructed to schedule your visit and let them know. [0.5]\n",
      "Consistency Error: 고객은 당신의 방문 일정을 정해서 알려 달라고 요청했었습니다. -> A customer has asked to inform you of an itinerary for your visit.\n",
      "Inconsistent mutant: 고객이 네오프렌에서 팔찌로 교체할 때 네오프렌에 있는 스프링 바를 그대로 사용할 수 있나요? -> When a customer changes from neoprene to a bracelet, can the spring bar in neoprene be used as is? [0.5121951219512195]\n",
      "Consistency Error: 고객이 스트랩에서 팔찌로 교체할 때 스트랩에 있는 스프링 바를 그대로 사용할 수 있나요? -> Can the spring bar on the strap be used as-is when the customer changes from a strap to a bracelet?\n",
      "Inconsistent mutant: 곧 UAE 삼촌가 한국에 오는데 알려주고 싶어. -> I want to inform you that my UAE uncle is coming to Korea soon. [0.5882352941176471]\n",
      "Consistency Error: 곧 UAE 친구가 한국에 오는데 알려주고 싶어. -> A UAE friend is coming to Korea soon, and I want to let you know.\n"
     ]
    },
    {
     "name": "stderr",
     "output_type": "stream",
     "text": [
      " 41%|████      | 363/883 [01:45<02:07,  4.09it/s]"
     ]
    },
    {
     "name": "stdout",
     "output_type": "stream",
     "text": [
      "Inconsistent mutant: 골키퍼는 공을 막기 위해 팔을 벌리고 재개를 해요. -> The goalkeeper opens his arms to block the ball and resumes. [0.6964285714285714]\n",
      "Consistency Error: 골키퍼는 공을 막기 위해 팔을 벌리고 준비를 해요. -> The goalkeeper prepares with his arms wide open to block the ball.\n"
     ]
    },
    {
     "name": "stderr",
     "output_type": "stream",
     "text": [
      " 41%|████▏     | 366/883 [01:45<01:46,  4.87it/s]"
     ]
    },
    {
     "name": "stdout",
     "output_type": "stream",
     "text": [
      "Inconsistent mutant: 곳곳에 들어가있는 황금색 바디와 단 한군데도 똑같은 바디가 없는 것이 나는 그의 작품인 것을 알 수 있습니다. -> It can be seen that the golden body in every corner and the fact that there is no identical body in one place is his work. [0.49473684210526314]\n",
      "Consistency Error: 곳곳에 들어가있는 황금색 컬러와 단 한군데도 똑같은 컬러가 없는 것이 나는 그의 작품인 것을 알 수 있습니다. -> I can tell that it is his work that there is not a single color identical to the golden color in every corner.\n",
      "Inconsistent mutant: 공동정범으로 기소된 박 전 대통령에 대해서도 6개월 무죄 기간이 지나자 다시 별건으로 무죄영장이 발부됐습니다. -> Ex-President Park, who was charged with a co-authoritarian offense, was also issued an acquittal after six months of acquittal. [0.3533834586466166]\n",
      "Consistency Error: 공동정범으로 기소된 박 전 대통령에 대해서도 6개월 구속 기간이 지나자 다시 별건으로 구속영장이 발부됐습니다. -> An arrest warrant was again issued for former President Park, who was indicted as a co-founder, as a separate case after the six-month detention period had elapsed.\n"
     ]
    },
    {
     "name": "stderr",
     "output_type": "stream",
     "text": [
      " 42%|████▏     | 369/883 [01:47<03:05,  2.76it/s]"
     ]
    },
    {
     "name": "stdout",
     "output_type": "stream",
     "text": [
      "Inconsistent mutant: 상영하는 도중에 그의 눈에서 렌즈가 빠졌다. -> During the screening, the lens fell out of his eye. [0.64]\n",
      "Consistency Error: 공연하는 도중에 그의 눈에서 렌즈가 빠졌다. -> The lens fell out of his eye during the performance.\n"
     ]
    },
    {
     "name": "stderr",
     "output_type": "stream",
     "text": [
      " 42%|████▏     | 372/883 [01:47<02:26,  3.50it/s]"
     ]
    },
    {
     "name": "stdout",
     "output_type": "stream",
     "text": [
      "Inconsistent mutant: 공킹를 견디지 못한 동료 병사는 진지 밖으로 뛰쳐나오자마자 전차킹에 맞아 두 동강이 난 채 절명했어요. -> A fellow soldier who could not stand the gongking was killed by the tank king as soon as he ran out of the camp and was cut in two. [0.6377952755905512]\n",
      "Consistency Error: 공포를 견디지 못한 동료 병사는 진지 밖으로 뛰쳐나오자마자 전차포에 맞아 두 동강이 난 채 절명했어요. -> A fellow soldier, unable to withstand the fear, ran out of the camp, and as soon as he ran out of the camp, he was hit by a tank gun and killed in half.\n"
     ]
    },
    {
     "name": "stderr",
     "output_type": "stream",
     "text": [
      " 43%|████▎     | 380/883 [01:51<02:42,  3.09it/s]"
     ]
    },
    {
     "name": "stdout",
     "output_type": "stream",
     "text": [
      "Inconsistent mutant: 공수병을 가질 필요가 없었기에 12주 전에 그녀를 보냈습니다. -> There was no need to have rabies, so I let her go 12 weeks ago. [0.5769230769230769]\n",
      "Consistency Error: 광견병을 가질 필요가 없었기에 12주 전에 그녀를 보냈습니다. -> I sent her away 12 weeks ago because I didn't have to have rabies.\n"
     ]
    },
    {
     "name": "stderr",
     "output_type": "stream",
     "text": [
      " 44%|████▍     | 387/883 [01:52<02:10,  3.80it/s]"
     ]
    },
    {
     "name": "stdout",
     "output_type": "stream",
     "text": [
      "Inconsistent mutant: 광해군은 명분과 실리 사이에서 효과적인 안보정책을 펼친 것으로 꾸준히 재평가되고 있습니다. -> Gwanghaegun is constantly being reevaluated as having implemented an effective security policy between cause and practicality. [0.6831683168316831]\n",
      "Consistency Error: 광해군은 명분과 실리 사이에서 효과적인 외교정책을 펼친 것으로 꾸준히 재평가되고 있습니다. -> Gwanghaegun has been consistently reevaluated for its effective foreign policy between cause and realities.\n"
     ]
    },
    {
     "name": "stderr",
     "output_type": "stream",
     "text": [
      " 44%|████▍     | 389/883 [01:52<02:18,  3.56it/s]"
     ]
    },
    {
     "name": "stdout",
     "output_type": "stream",
     "text": [
      "Inconsistent mutant: 괴물은 자신의 틀에 동생을 가두려는 마녀로부터 동생을 꺼내 주는 역할입니다. -> The monster plays the role of freeing the younger brother from the witch who is trying to imprison him in her mold. [0.6829268292682926]\n",
      "Consistency Error: 괴물은 자신의 틀에 딸을 가두려는 마녀로부터 딸을 꺼내 주는 역할입니다. -> The monster's role is to get her daughter out of the witch trying to lock her in her mold.\n"
     ]
    },
    {
     "name": "stderr",
     "output_type": "stream",
     "text": [
      " 44%|████▍     | 390/883 [01:54<05:48,  1.41it/s]"
     ]
    },
    {
     "name": "stdout",
     "output_type": "stream",
     "text": [
      "Inconsistent mutant: 괴한이 남자를 죽이려고 하자 남자가 보호해주려 애쓰는 모습에서 정말 사랑 하는 것이 눈에 보였어. -> When the assailant tried to kill the man, he could see that he really loved him in the way he tried to protect him. [0.6933333333333334]\n",
      "Consistency Error: 괴한이 여자를 죽이려고 하자 남자가 보호해주려 애쓰는 모습에서 정말 사랑 하는 것이 눈에 보였어. -> When the assailant tried to kill the woman, the man tried to protect her, and it was evident that he really loved her.\n"
     ]
    },
    {
     "name": "stderr",
     "output_type": "stream",
     "text": [
      " 45%|████▍     | 393/883 [01:55<05:09,  1.59it/s]"
     ]
    },
    {
     "name": "stdout",
     "output_type": "stream",
     "text": [
      "Inconsistent mutant: 구매자는 품목을 받자마자 기기의 상태에 만족했습니다. -> The buyer was happy with the condition of the device as soon as they received the item. [0.5555555555555556]\n",
      "Consistency Error: 구매자는 상품을 받자마자 기기의 상태에 만족했습니다. -> As soon as the buyer received the goods, they were satisfied with the condition of the device.\n"
     ]
    },
    {
     "name": "stderr",
     "output_type": "stream",
     "text": [
      " 46%|████▌     | 404/883 [01:57<03:50,  2.08it/s]"
     ]
    },
    {
     "name": "stdout",
     "output_type": "stream",
     "text": [
      "Inconsistent mutant: 구성원 중 한 명이 할머니가 돌아가셔서 그날 밤에 먼저 한국 돌아가야 합니다. -> One of the members has to go back to Korea first that night because her grandmother passed away. [0.6]\n",
      "Consistency Error: 구성원 중 한 명이 할머니가 돌아가셔서 오늘 밤에 먼저 한국 돌아가야 합니다. -> One of the members' grandmother passed away, so I have to go back to Korea first tonight.\n"
     ]
    },
    {
     "name": "stderr",
     "output_type": "stream",
     "text": [
      " 46%|████▌     | 407/883 [01:58<03:56,  2.01it/s]"
     ]
    },
    {
     "name": "stdout",
     "output_type": "stream",
     "text": [
      "Inconsistent mutant: 국가는 난민 입증 후에도 그들이 사회 통합될 수 있도록 관리해야 한다고 말했습니다. -> He said the state must manage the refugees so that they can be integrated into society even after they have been verified. [0.5897435897435898]\n",
      "Consistency Error: 국가는 난민 인정 후에도 그들이 사회 통합될 수 있도록 관리해야 한다고 말했습니다. -> The state said that even after recognizing refugees, they should manage them so that they can be integrated into society.\n"
     ]
    },
    {
     "name": "stderr",
     "output_type": "stream",
     "text": [
      " 46%|████▋     | 410/883 [02:00<04:15,  1.85it/s]"
     ]
    },
    {
     "name": "stdout",
     "output_type": "stream",
     "text": [
      "Inconsistent mutant: 검찰에서 그의 체포 동의안을 의제로 투표했습니다. -> Prosecutors voted on the agenda for his arrest motion. [0.5]\n",
      "Consistency Error: 국회에서 그의 체포 동의안을 의제로 투표했습니다. -> Parliament voted his arrest motion on the agenda.\n",
      "Inconsistent mutant: 궁금한 사항을 그가 자세히 사항을 해 줄 겁니다. -> If you have any questions, he will give you the details. [0.368421052631579]\n",
      "Consistency Error: 궁금한 사항을 그가 자세히 설명을 해 줄 겁니다. -> He will explain in detail your questions.\n"
     ]
    },
    {
     "name": "stderr",
     "output_type": "stream",
     "text": [
      " 47%|████▋     | 419/883 [02:01<03:00,  2.57it/s]"
     ]
    },
    {
     "name": "stdout",
     "output_type": "stream",
     "text": [
      "Inconsistent mutant: 귀여워서 중년들한테 인기 많을 거 같아. -> It's cute and I think it'll be popular with middle-aged people. [0.6046511627906976]\n",
      "Consistency Error: 귀여워서 남자들한테 인기 많을 거 같아. -> I think it will be popular with men because it is cute.\n",
      "Inconsistent mutant: 귀한 분이니 혹시 추가적인 주차이 필요하다해도 지불할 용의도 있습니다. -> You're a valuable person, so I'm willing to pay for additional parking if you ever need it. [0.6933333333333334]\n",
      "Consistency Error: 귀한 분이니 혹시 추가적인 요금이 필요하다해도 지불할 용의도 있습니다. -> Since you are a valuable person, I am willing to pay any additional fees if necessary.\n",
      "Inconsistent mutant: 그 초봄에 고향 집을 찾았다가 서울행 기차를 타기 위해 어머니의 손을 잡고 장단 역으로 나왔던 게 그의 마지막 모습이었어. -> His last appearance was when he went to Jangdan Station holding his mother's hand to catch the train to Seoul after visiting his hometown in the early spring. [0.627906976744186]\n",
      "Consistency Error: 그 겨울에 고향 집을 찾았다가 서울행 기차를 타기 위해 어머니의 손을 잡고 장단 역으로 나왔던 게 그의 마지막 모습이었어. -> It was his last appearance that winter when he went to his hometown house and held his mother's hand and came out to Jangdan Station to catch the train to Seoul.\n",
      "Inconsistent mutant: 그 결과 아베 장관가 조부의 명예를 깎아내리면서까지 체결한 일본과 한국의 협의도 와해하였습니다. -> As a result, the negotiations between Japan and Korea that were signed by Minister Abe to the point of undermining his grandfather's honor also collapsed. [0.6837606837606838]\n",
      "Consistency Error: 그 결과 아베 총리가 조부의 명예를 깎아내리면서까지 체결한 일본과 한국의 협의도 와해하였습니다. -> As a result, the Japanese-Korea agreement that Prime Minister Abe had even undermined his grandfather's honor was also disrupted.\n",
      "Inconsistent mutant: 그 여성은 여권을 가져오지 않아서 집으로 돌아갔습니다. -> The woman didn't bring her passport, so she went home. [0.5121951219512195]\n",
      "Consistency Error: 그 남성은 여권을 가져오지 않아서 집으로 돌아갔습니다. -> The man returned home because he did not bring his passport.\n",
      "Inconsistent mutant: 그 남자 그리 영양해 보이지 않는데요. -> That man doesn't look very nutritious. [0.6923076923076923]\n",
      "Consistency Error: 그 남자 그리 건강해 보이지 않는데요. -> He doesn't look very healthy.\n",
      "Inconsistent mutant: 그 소년 인형은 당신이 등의 태엽을 감으면, 동작이 빨라져서 뭐든 빨리빨리 척척 해낼 수 있게 됩니다. -> The boy doll moves faster when you wind it up, so he can get things done quickly and quickly. [0.6612903225806452]\n",
      "Consistency Error: 그 남자 인형은 당신이 등의 태엽을 감으면, 동작이 빨라져서 뭐든 빨리빨리 척척 해낼 수 있게 됩니다. -> When you wind up the back of the male doll, the movement becomes faster, allowing him to get things done quickly and quickly.\n",
      "Inconsistent mutant: 그 소녀가 돈을 지불했습니다. -> The girl paid for it. [0.6923076923076923]\n",
      "Consistency Error: 그 남자가 돈을 지불했습니다. -> The man paid the money.\n"
     ]
    },
    {
     "name": "stderr",
     "output_type": "stream",
     "text": [
      " 52%|█████▏    | 456/883 [02:01<01:58,  3.61it/s]"
     ]
    },
    {
     "name": "stdout",
     "output_type": "stream",
     "text": [
      "Inconsistent mutant: 그 중년가 와서는 안 됩니다. -> That middle-aged man shouldn't come. [0.631578947368421]\n",
      "Consistency Error: 그 남자가 와서는 안 됩니다. -> The man must not come.\n"
     ]
    },
    {
     "name": "stderr",
     "output_type": "stream",
     "text": [
      " 52%|█████▏    | 461/883 [02:01<01:29,  4.70it/s]"
     ]
    },
    {
     "name": "stdout",
     "output_type": "stream",
     "text": [
      "Inconsistent mutant: 그 중년가 젊었을 때는 노래를 잘했지요. -> When that middle-aged man was young, he was good at singing. [0.6666666666666667]\n",
      "Consistency Error: 그 남자가 젊었을 때는 노래를 잘했지요. -> When the man was young, he sang well.\n"
     ]
    },
    {
     "name": "stderr",
     "output_type": "stream",
     "text": [
      " 53%|█████▎    | 466/883 [02:02<01:11,  5.80it/s]"
     ]
    },
    {
     "name": "stdout",
     "output_type": "stream",
     "text": [
      "Inconsistent mutant: 그 남자가 독설으로 당신만을 사랑했으면 좋겠어. -> I wish that man only loved you with his venomous words. [0.6799999999999999]\n",
      "Consistency Error: 그 남자가 진심으로 당신만을 사랑했으면 좋겠어. -> I want that man to truly love only you.\n"
     ]
    },
    {
     "name": "stderr",
     "output_type": "stream",
     "text": [
      " 53%|█████▎    | 469/883 [02:02<01:16,  5.39it/s]"
     ]
    },
    {
     "name": "stdout",
     "output_type": "stream",
     "text": [
      "Inconsistent mutant: 그 중년는 계산을 잘못했어요. -> That middle-aged man made a mistake in his calculations. [0.3589743589743589]\n",
      "Consistency Error: 그 남자는 계산을 잘못했어요. -> The man did the math wrong.\n",
      "Inconsistent mutant: 그 중년는 공과 사가 확실합니다. -> That middle age is definitely a lesson in history. [0.46153846153846156]\n",
      "Consistency Error: 그 남자는 공과 사가 확실합니다. -> The man is sure to have a lesson.\n"
     ]
    },
    {
     "name": "stderr",
     "output_type": "stream",
     "text": [
      " 54%|█████▍    | 476/883 [02:03<01:02,  6.50it/s]"
     ]
    },
    {
     "name": "stdout",
     "output_type": "stream",
     "text": [
      "Inconsistent mutant: 그 여자는 그냥 내가 걱정 돼서 집에 데려다준 거야. -> She was just worried about me and took me home. [0.6538461538461539]\n",
      "Consistency Error: 그 남자는 그냥 내가 걱정 돼서 집에 데려다준 거야. -> The man just took me home because he was worried about me.\n",
      "Inconsistent mutant: 그 소년는 기분좋게 그녀를 불렀습니다. -> The boy cheerfully called her. [0.5769230769230769]\n",
      "Consistency Error: 그 남자는 기분좋게 그녀를 불렀습니다. -> The man called her pleasantly.\n",
      "Inconsistent mutant: 그 중년는 나가고 싶어 했습니다. -> The middle-aged man wanted to go out. [0.6799999999999999]\n",
      "Consistency Error: 그 남자는 나가고 싶어 했습니다. -> The man wanted to leave.\n",
      "Inconsistent mutant: 그 남자는 나의 어둠을 털어 갑니다. -> The man shakes away my darkness. [0.5454545454545454]\n",
      "Consistency Error: 그 남자는 나의 영혼을 털어 갑니다. -> That man steals my soul.\n"
     ]
    },
    {
     "name": "stderr",
     "output_type": "stream",
     "text": [
      " 56%|█████▌    | 493/883 [02:03<00:44,  8.79it/s]"
     ]
    },
    {
     "name": "stdout",
     "output_type": "stream",
     "text": [
      "Inconsistent mutant: 그 중년는 낮잠 잘 잤대요? -> Did that middle-aged man sleep well? [0.45833333333333337]\n",
      "Consistency Error: 그 남자는 낮잠 잘 잤대요? -> Did the man take a good nap?\n",
      "Inconsistent mutant: 그 중년는 부상을 면했어요. -> The middle-aged man escaped the injury. [0.5555555555555556]\n",
      "Consistency Error: 그 남자는 부상을 면했어요. -> The man escaped injuries.\n"
     ]
    },
    {
     "name": "stderr",
     "output_type": "stream",
     "text": [
      " 57%|█████▋    | 504/883 [02:04<00:37, 10.14it/s]"
     ]
    },
    {
     "name": "stdout",
     "output_type": "stream",
     "text": [
      "Inconsistent mutant: 그 중년는 알겠다고 했습니다. -> The middle-aged man said he would know. [0.5555555555555556]\n",
      "Consistency Error: 그 남자는 알겠다고 했습니다. -> The man said he would.\n"
     ]
    },
    {
     "name": "stderr",
     "output_type": "stream",
     "text": [
      " 58%|█████▊    | 512/883 [02:04<00:30, 12.05it/s]"
     ]
    },
    {
     "name": "stdout",
     "output_type": "stream",
     "text": [
      "Inconsistent mutant: 그 중년는 여행을 가려는 것처럼 보였습니다. -> The middle-aged man seemed to go on a trip. [0.6]\n",
      "Consistency Error: 그 남자는 여행을 가려는 것처럼 보였습니다. -> The man looked like he was going on a trip.\n"
     ]
    },
    {
     "name": "stderr",
     "output_type": "stream",
     "text": [
      " 59%|█████▊    | 518/883 [02:05<00:28, 12.87it/s]"
     ]
    },
    {
     "name": "stdout",
     "output_type": "stream",
     "text": [
      "Inconsistent mutant: 그 소녀는 완전 노발대발했어요. -> The girl was utterly furious. [0.6666666666666667]\n",
      "Consistency Error: 그 남자는 완전 노발대발했어요. -> The man was absolutely bonkers.\n",
      "Inconsistent mutant: 그 소녀는 장갑을 끼지 않은 맨손으로 잡지를 들고 서 있었습니다. -> The girl was standing with her bare hands, ungloves, holding a magazine. [0.6585365853658536]\n",
      "Consistency Error: 그 남자는 장갑을 끼지 않은 맨손으로 잡지를 들고 서 있었습니다. -> The man was standing holding a magazine with his bare hands, not wearing gloves.\n",
      "Inconsistent mutant: 그 중년는 최고의 중년예요. -> That middle-aged is the best middle-aged. [0.6896551724137931]\n",
      "Consistency Error: 그 남자는 최고의 남자예요. -> That man is the best man.\n",
      "Inconsistent mutant: 그 남자는 카메라를 금에 걸고 있고 손에는 지도를 들고 있어요. -> The man is hanging the camera on the gold and holding a map in his hand. [0.6833333333333333]\n",
      "Consistency Error: 그 남자는 카메라를 목에 걸고 있고 손에는 지도를 들고 있어요. -> The man has a camera around his neck and a map in his hand.\n"
     ]
    },
    {
     "name": "stderr",
     "output_type": "stream",
     "text": [
      " 62%|██████▏   | 548/883 [02:05<00:19, 16.88it/s]"
     ]
    },
    {
     "name": "stdout",
     "output_type": "stream",
     "text": [
      "Inconsistent mutant: 그 남자는 피도 론가울 것 같아요. -> I think that guy would be bloody longa. [0]\n",
      "Consistency Error: 그 남자는 피도 차가울 것 같아요. -> That man must have cold blood.\n",
      "Inconsistent mutant: 그 남자도 죽을 때까지 그녀만을 행복한답니다. -> Until that man dies, only her is happy. [0.6896551724137931]\n",
      "Consistency Error: 그 남자도 죽을 때까지 그녀만을 사랑한답니다. -> Even that man loves only her until the day he dies.\n"
     ]
    },
    {
     "name": "stderr",
     "output_type": "stream",
     "text": [
      " 63%|██████▎   | 557/883 [02:06<00:17, 18.87it/s]"
     ]
    },
    {
     "name": "stdout",
     "output_type": "stream",
     "text": [
      "Inconsistent mutant: 그 남자엄마가 정말 많이 컸네. -> That boy's mom has really grown up a lot. [0.5806451612903225]\n",
      "Consistency Error: 그 남자아이가 정말 많이 컸네. -> That boy has grown so much.\n",
      "Inconsistent mutant: 그 소년의 친구 중에 높은 사람이라도 있는 거야? -> Are any of the boy's friends high? [0.5294117647058824]\n",
      "Consistency Error: 그 남자의 친구 중에 높은 사람이라도 있는 거야? -> Are there any high-ranking friends of that man?\n",
      "Inconsistent mutant: 그 녀석이 각혈을 다 깨버렸어요. -> That guy broke all the blood clots. [0.6923076923076923]\n",
      "Consistency Error: 그 녀석이 산통을 다 깨버렸어요. -> He broke all the colics.\n",
      "Inconsistent mutant: 그 농부는 팥로 진료비를 대신했어요. -> The farmer replaced the medical expenses with red beans. [0.6511627906976745]\n",
      "Consistency Error: 그 농부는 채소로 진료비를 대신했어요. -> The farmer covered his medical bills with vegetables.\n"
     ]
    },
    {
     "name": "stderr",
     "output_type": "stream",
     "text": [
      " 65%|██████▌   | 577/883 [02:06<00:14, 21.12it/s]"
     ]
    },
    {
     "name": "stdout",
     "output_type": "stream",
     "text": [
      "Inconsistent mutant: 그 말을 들은 짱아는 뭐라고 말씀하시나요? -> What did Jjang-ah say after hearing that? [0.6206896551724138]\n",
      "Consistency Error: 그 말을 들은 엄마는 뭐라고 말씀하시나요? -> What does your mother say when she hears that?\n",
      "Inconsistent mutant: 그 말인즉슨 방통상단 관계자가 손님인 척 상단장하여 휴대폰을 구매하고, 불법 보조금을 지불하는 것을 신고했다는 것이에요. -> In other words, it was reported that an official from the broadcasting company pretended to be a customer, bought a cell phone, and paid illegal subsidies. [0.6909090909090909]\n",
      "Consistency Error: 그 말인즉슨 방통위 관계자가 손님인 척 위장하여 휴대폰을 구매하고, 불법 보조금을 지불하는 것을 신고했다는 것이에요. -> In other words, a KCC official reported that he was disguised as a customer to purchase a mobile phone and pay an illegal subsidy.\n",
      "Inconsistent mutant: 그 사람 만큼은 나를 행복해 줬으면 합니다. -> I want him to be as happy as me. [0.5625]\n",
      "Consistency Error: 그 사람 만큼은 나를 사랑해 줬으면 합니다. -> I want you to love me as much as that person.\n",
      "Inconsistent mutant: 그 사람 맘이 재학 논문 때문에 괴롭습니다. -> That person's heart is suffering because of the thesis he is attending. [0.64]\n",
      "Consistency Error: 그 사람 맘이 졸업 논문 때문에 괴롭습니다. -> That person's heart is troubled by the graduation thesis.\n",
      "Inconsistent mutant: 그 사람 못 본 지 7개월은 된 것 같은데요. -> I think it's been 7 months since I haven't seen him. [0.45945945945945943]\n",
      "Consistency Error: 그 사람 못 본 지 6개월은 된 것 같은데요. -> I don't think I've seen him for six months.\n",
      "Inconsistent mutant: 그 사람더러 저한테 수신하라고 전해 주세요. -> Tell that person to listen to me. [0.6190476190476191]\n",
      "Consistency Error: 그 사람더러 저한테 전화하라고 전해 주세요. -> Tell him to call me.\n"
     ]
    },
    {
     "name": "stderr",
     "output_type": "stream",
     "text": [
      " 71%|███████▏  | 630/883 [02:07<00:08, 28.70it/s]"
     ]
    },
    {
     "name": "stdout",
     "output_type": "stream",
     "text": [
      "Inconsistent mutant: 그 사람도 일한 지 전쯤 안 됐어? -> Hasn't that person worked a while ago? [0.6451612903225806]\n",
      "Consistency Error: 그 사람도 일한 지 며칠 안 됐어? -> Has that person been working for a few days?\n",
      "Inconsistent mutant: 그 사람도 초청할 수 있어요. -> You can invite that person too. [0.6875]\n",
      "Consistency Error: 그 사람도 참석할 수 있어요. -> That person can attend too.\n"
     ]
    },
    {
     "name": "stderr",
     "output_type": "stream",
     "text": [
      " 72%|███████▏  | 638/883 [02:07<00:08, 28.42it/s]"
     ]
    },
    {
     "name": "stdout",
     "output_type": "stream",
     "text": [
      "Inconsistent mutant: 그 사람은 가정적인 중년입니다. -> The person is a domestic middle-aged man. [0.6206896551724138]\n",
      "Consistency Error: 그 사람은 가정적인 남자입니다. -> He is a domestic man.\n",
      "Inconsistent mutant: 그 사람은 인간적인 이야기만 했습니다. -> He spoke only human stories. [0.4666666666666667]\n",
      "Consistency Error: 그 사람은 개인적인 이야기만 했습니다. -> The person only spoke privately.\n",
      "Inconsistent mutant: 그 사람은 너무 거만한 게 해결예요. -> That person is too arrogant is the solution. [0.3928571428571429]\n",
      "Consistency Error: 그 사람은 너무 거만한 게 문제예요. -> The problem is that he's too arrogant.\n",
      "Inconsistent mutant: 그 사람은 마치 영국인처럼 언어를 해요. -> He speaks like an Englishman. [0.6363636363636364]\n",
      "Consistency Error: 그 사람은 마치 영국인처럼 영어를 해요. -> He speaks English like a British.\n",
      "Inconsistent mutant: 그 사람은 모두 변제했습니다. -> All of them paid off. [0.5882352941176471]\n",
      "Consistency Error: 그 사람은 모두 처분했습니다. -> The person disposed of them all.\n",
      "Inconsistent mutant: 그 사람은 법학대학의 아동관에 있을 겁니다. -> He'll be in the Law School's Children's Center. [0.5]\n",
      "Consistency Error: 그 사람은 법학대학의 학생관에 있을 겁니다. -> That person will be in the student building of the law school.\n"
     ]
    },
    {
     "name": "stderr",
     "output_type": "stream",
     "text": [
      " 76%|███████▌  | 668/883 [02:07<00:06, 34.90it/s]"
     ]
    },
    {
     "name": "stdout",
     "output_type": "stream",
     "text": [
      "Inconsistent mutant: 그 사람은 사고방법이 융통성이 있어요. -> He has a flexible way of thinking. [0.64]\n",
      "Consistency Error: 그 사람은 사고방식이 융통성이 있어요. -> The person has a flexible mindset.\n",
      "Inconsistent mutant: 그 사람은 장모와 잘 지내고 있습니까? -> Is the person getting along with his mother-in-law? [0.6756756756756757]\n",
      "Consistency Error: 그 사람은 아내와 잘 지내고 있습니까? -> Is the person on good terms with his wife?\n",
      "Inconsistent mutant: 그 사람은 오늘 시합에 찹여하지 못해요. -> He can't fit into today's match. [0.6216216216216216]\n",
      "Consistency Error: 그 사람은 오늘 연습에 찹여하지 못해요. -> That person can't get enough of today's practice.\n",
      "Inconsistent mutant: 그 사람은 왜 그렇게 젊은 기혼에 죽었어요? -> Why did the man die so young and married? [0.631578947368421]\n",
      "Consistency Error: 그 사람은 왜 그렇게 젊은 나이에 죽었어요? -> Why did he die at such a young age?\n",
      "Inconsistent mutant: 그 사람은 유복한 가족에서 사랑을 받고 자랐을 확률이 높습니다. -> It is likely that the person was loved and raised in a well-to-do family. [0.5967741935483871]\n",
      "Consistency Error: 그 사람은 유복한 가정에서 사랑을 받고 자랐을 확률이 높습니다. -> The person is likely to have been loved and brought up in a wealthy family.\n"
     ]
    },
    {
     "name": "stderr",
     "output_type": "stream",
     "text": [
      " 79%|███████▉  | 700/883 [02:08<00:05, 34.98it/s]"
     ]
    },
    {
     "name": "stdout",
     "output_type": "stream",
     "text": [
      "Inconsistent mutant: 그 사람은 이미 널 행복 하는 거 같아. -> He seems to be happy with you already. [0]\n",
      "Consistency Error: 그 사람은 이미 널 사랑 하는 거 같아. -> I think he already loves you.\n",
      "Inconsistent mutant: 그 사람은 자신을 설명하는 도구을 잘 모르고 나이를 먹은 거야. -> That person is old and doesn't know the tools to describe him. [0.5714285714285714]\n",
      "Consistency Error: 그 사람은 자신을 설명하는 방법을 잘 모르고 나이를 먹은 거야. -> He's grown old without knowing how to describe himself.\n",
      "Inconsistent mutant: 그 사람은 조심해서 스쿠터를 탔습니다. -> The man was careful and rode the scooter. [0.48]\n",
      "Consistency Error: 그 사람은 조심해서 오토바이를 탔습니다. -> The man rode his motorcycle with caution.\n",
      "Inconsistent mutant: 그 사람은 태어날 때부터 선천적 질환를 갖고 있었어요. -> The person had a congenital disease from birth. [0.5384615384615384]\n",
      "Consistency Error: 그 사람은 태어날 때부터 선천적 장애를 갖고 있었어요. -> The person was born with a birth defect.\n",
      "Inconsistent mutant: 그 사람은 국내 팀에만 소속되어 있습니다. -> The person belongs only to the domestic team. [0.6923076923076923]\n",
      "Consistency Error: 그 사람은 한국 팀에만 소속되어 있습니다. -> He is only on the Korean team.\n",
      "Inconsistent mutant: 그 사람은 항상 자기 아내에게 불평이 있어요. -> He always complains to his wife. [0.6666666666666667]\n",
      "Consistency Error: 그 사람은 항상 자기 아내에게 불만이 있어요. -> The man is always dissatisfied with his wife.\n"
     ]
    },
    {
     "name": "stderr",
     "output_type": "stream",
     "text": [
      " 83%|████████▎ | 737/883 [02:09<00:03, 43.61it/s]"
     ]
    },
    {
     "name": "stdout",
     "output_type": "stream",
     "text": [
      "Inconsistent mutant: 그 사람은 월를 속으로 삭이는 타입이에요. -> That person is the type to keep the moon inside. [0.5652173913043479]\n",
      "Consistency Error: 그 사람은 화를 속으로 삭이는 타입이에요. -> He is the type of person who suppresses his anger inwardly.\n",
      "Inconsistent mutant: 그 사람은 휠체어를 가능하나요? -> Is that person wheelchair accessible? [0.6666666666666667]\n",
      "Consistency Error: 그 사람은 휠체어를 이용하나요? -> Does the person use a wheelchair?\n",
      "Inconsistent mutant: 그 사람이 그런 말을 하다니 비난하네요. -> I blame him for saying that. [0.5238095238095238]\n",
      "Consistency Error: 그 사람이 그런 말을 하다니 무례하네요. -> It's rude for him to say that.\n",
      "Inconsistent mutant: 그 사람이 나를 진짜 행복하는줄 알았어. -> I thought that person was really happy with me. [0.6944444444444444]\n",
      "Consistency Error: 그 사람이 나를 진짜 사랑하는줄 알았어. -> I knew that person really loved me.\n",
      "Inconsistent mutant: 그 사람이 나에게 당신에게 특허 출원했던 영업를 처리해 달라고 부탁했습니다. -> The person has asked me to handle a business for which you have applied for a patent. [0.4]\n",
      "Consistency Error: 그 사람이 나에게 당신에게 특허 출원했던 업무를 처리해 달라고 부탁했습니다. -> He asked me to do a patent application for you.\n"
     ]
    },
    {
     "name": "stderr",
     "output_type": "stream",
     "text": [
      " 86%|████████▌ | 759/883 [02:09<00:02, 44.96it/s]"
     ]
    },
    {
     "name": "stdout",
     "output_type": "stream",
     "text": [
      "Inconsistent mutant: 그 사람이 나에게서 엄마를 가져갔어요. -> That person took my mom from me. [0.6818181818181819]\n",
      "Consistency Error: 그 사람이 나에게서 아기를 가져갔어요. -> He took the baby from me.\n",
      "Inconsistent mutant: 그 사람이 무슨 수도가 떠오를지도 모르잖아요. -> You don't know what capital city that person is thinking of. [0.6136363636363636]\n",
      "Consistency Error: 그 사람이 무슨 수가 떠오를지도 모르잖아요. -> You never know what number that person will come up with.\n",
      "Inconsistent mutant: 그 사람이 문을 부쉈다는 의심는 없어요. -> I have no doubts that he broke the door. [0.6511627906976745]\n",
      "Consistency Error: 그 사람이 문을 부쉈다는 증거는 없어요. -> There is no evidence that the person broke the door.\n"
     ]
    },
    {
     "name": "stderr",
     "output_type": "stream",
     "text": [
      " 87%|████████▋ | 770/883 [02:09<00:02, 40.68it/s]"
     ]
    },
    {
     "name": "stdout",
     "output_type": "stream",
     "text": [
      "Inconsistent mutant: 그 사람이 수술했을 때 난 인스턴트 식품만 먹었어. -> When he had surgery, I ate only junk food. [0.625]\n",
      "Consistency Error: 그 사람이 입원했을 때 난 인스턴트 식품만 먹었어. -> When he was hospitalized, I only ate instant food.\n"
     ]
    },
    {
     "name": "stderr",
     "output_type": "stream",
     "text": [
      " 89%|████████▊ | 782/883 [02:10<00:02, 36.54it/s]"
     ]
    },
    {
     "name": "stdout",
     "output_type": "stream",
     "text": [
      "Inconsistent mutant: 그 사람이 검출이 가능한 거로 오해했습니다. -> The person misunderstood that it was detectable. [0.5405405405405406]\n",
      "Consistency Error: 그 사람이 조작이 가능한 거로 오해했습니다. -> I misunderstood that the person was capable of manipulation.\n",
      "Inconsistent mutant: 그 특질이 저와 가장 닮았다고 생각합니다. -> I think that trait resembles me the most. [0.5789473684210527]\n",
      "Consistency Error: 그 성격이 저와 가장 닮았다고 생각합니다. -> I think that personality is the most similar to mine.\n",
      "Inconsistent mutant: 그 천사의 옆집에는 그레그 씨의 농장이 있었어요. -> Next door to the angel was Greg's farm. [0.46875]\n",
      "Consistency Error: 그 소녀의 옆집에는 그레그 씨의 농장이 있었어요. -> Greg's farm was next door to the girl.\n"
     ]
    },
    {
     "name": "stderr",
     "output_type": "stream",
     "text": [
      " 92%|█████████▏| 810/883 [02:10<00:01, 44.05it/s]"
     ]
    },
    {
     "name": "stdout",
     "output_type": "stream",
     "text": [
      "Inconsistent mutant: 그 소년은 여자 친구에게 수신 통화하고 있어요. -> The boy is on an incoming call to his girlfriend. [0.6904761904761905]\n",
      "Consistency Error: 그 소년은 여자 친구에게 전화 통화하고 있어요. -> The boy is talking to his girlfriend on the phone.\n"
     ]
    },
    {
     "name": "stderr",
     "output_type": "stream",
     "text": [
      " 92%|█████████▏| 816/883 [02:11<00:04, 15.71it/s]"
     ]
    },
    {
     "name": "stdout",
     "output_type": "stream",
     "text": [
      "Inconsistent mutant: 그 속죄를 위하여 그 급우의 아들, 가지마 하루유키에게 살해당하기 위해 행동하는 과정을 쓴 책입니다. -> This book is about the process of taking action to be murdered by the classmate's son, Kajima Haruyuki, for his atonement. [0.6944444444444444]\n",
      "Consistency Error: 그 속죄를 위하여 그 친구의 아들, 가지마 하루유키에게 살해당하기 위해 행동하는 과정을 쓴 책입니다. -> This is a book about the process of acting in order to be murdered by that friend's son, Haruyuki Kajima, for that atonement.\n",
      "Inconsistent mutant: 그 손은 손으로 하는 노동과 정직하게 노력해서 얻은 점심를 암시하고 있습니다. -> The hand alludes to hand labor and honest hard work lunch. [0.6]\n",
      "Consistency Error: 그 손은 손으로 하는 노동과 정직하게 노력해서 얻은 식사를 암시하고 있습니다. -> The hand alludes to the labor of the hand and the meal obtained through honest effort.\n"
     ]
    },
    {
     "name": "stderr",
     "output_type": "stream",
     "text": [
      " 93%|█████████▎| 821/883 [02:15<00:16,  3.73it/s]"
     ]
    },
    {
     "name": "stdout",
     "output_type": "stream",
     "text": [
      "Inconsistent mutant: 그 평면는 예쁘고 품질도 좋아서 그녀의 마음에 쏙 들었어요. -> The flat surface was pretty and the quality was good, so I was very pleased with her. [0.4487179487179487]\n",
      "Consistency Error: 그 시계는 예쁘고 품질도 좋아서 그녀의 마음에 쏙 들었어요. -> The watch was beautiful and of good quality, so she liked it.\n",
      "Inconsistent mutant: 그 엄마는 그녀가 여왕이 된 이후로 낳은 첫 번째 엄마야. -> That mother is the first mother she has had since becoming queen. [0.5217391304347826]\n",
      "Consistency Error: 그 아기는 그녀가 여왕이 된 이후로 낳은 첫 번째 아기야. -> It's her first baby since she became queen.\n",
      "Inconsistent mutant: 그 엄마는 엄마를 닮아 정말 귀여요. -> That mom is really cute just like her. [0.6578947368421053]\n",
      "Consistency Error: 그 아기는 엄마를 닮아 정말 귀여요. -> The baby is so cute just like her mother.\n"
     ]
    },
    {
     "name": "stderr",
     "output_type": "stream",
     "text": [
      " 94%|█████████▍| 829/883 [02:15<00:10,  5.02it/s]"
     ]
    },
    {
     "name": "stdout",
     "output_type": "stream",
     "text": [
      "Inconsistent mutant: 그 언니가 사실은 훌륭하게 될 언니인데 때를 잘못 만나서 그렇게 사는 거야. -> That older sister is actually the older sister who will be great, but she met at the wrong time and lived like that. [0.4017857142857143]\n",
      "Consistency Error: 그 아이가 사실은 훌륭하게 될 아이인데 때를 잘못 만나서 그렇게 사는 거야. -> He's actually going to be a great kid, but he's living like that because he met the wrong time.\n",
      "Inconsistent mutant: 그 엄마가 엄마의 외모와 아빠의 지능을 물려받기를 기도해주자. -> Pray that the mother will inherit her mother's looks and father's intelligence. [0.6282051282051282]\n",
      "Consistency Error: 그 아이가 엄마의 외모와 아빠의 지능을 물려받기를 기도해주자. -> Pray that the child will inherit the looks of the mother and the intelligence of the father.\n",
      "Inconsistent mutant: 그 짱아는 가슴으로 낳아 지갑으로 길렀습니다. -> She gave birth to her breasts and raised her with her wallet. [0.6129032258064516]\n",
      "Consistency Error: 그 아이는 가슴으로 낳아 지갑으로 길렀습니다. -> The child was born with a chest and raised with a purse.\n"
     ]
    },
    {
     "name": "stderr",
     "output_type": "stream",
     "text": [
      " 94%|█████████▍| 834/883 [02:15<00:07,  6.26it/s]"
     ]
    },
    {
     "name": "stdout",
     "output_type": "stream",
     "text": [
      "Inconsistent mutant: 그 아이는 잃어버린 열쇠와 불꽃를 찾으러 왔어. -> The child has come to retrieve the lost key and flame. [0.6808510638297872]\n",
      "Consistency Error: 그 아이는 잃어버린 열쇠와 번개를 찾으러 왔어. -> The kid came to find the lost key and lightning.\n"
     ]
    },
    {
     "name": "stderr",
     "output_type": "stream",
     "text": [
      " 95%|█████████▍| 837/883 [02:16<00:06,  6.80it/s]"
     ]
    },
    {
     "name": "stdout",
     "output_type": "stream",
     "text": [
      "Inconsistent mutant: 그 엄마도 커서 톱 스타가 될 것 같아요. -> I think that mother will also become a top star when she grows up. [0.6808510638297872]\n",
      "Consistency Error: 그 아이도 커서 톱 스타가 될 것 같아요. -> I think that child will grow up to become a top star.\n"
     ]
    },
    {
     "name": "stderr",
     "output_type": "stream",
     "text": [
      " 95%|█████████▌| 839/883 [02:16<00:06,  6.60it/s]"
     ]
    },
    {
     "name": "stdout",
     "output_type": "stream",
     "text": [
      "Inconsistent mutant: 그 총각가 척을 괴롭히는 총각예요. -> That bachelor is the bachelor who is tormenting Chuck. [0.525]\n",
      "Consistency Error: 그 애가 척을 괴롭히는 애예요. -> That's the kid who bullies Chuck.\n",
      "Inconsistent mutant: 그 아빠는 일요일 아침엔 느긋이 준비하고 싶어 해서 시간이 오래 걸려. -> It takes a long time because the father wants to take it easy on Sunday mornings. [0.6829268292682926]\n",
      "Consistency Error: 그 애는 일요일 아침엔 느긋이 준비하고 싶어 해서 시간이 오래 걸려. -> He wants to take it easy on Sunday mornings, so it takes a long time.\n"
     ]
    },
    {
     "name": "stderr",
     "output_type": "stream",
     "text": [
      " 96%|█████████▌| 844/883 [02:17<00:06,  6.10it/s]"
     ]
    },
    {
     "name": "stdout",
     "output_type": "stream",
     "text": [
      "Inconsistent mutant: 그 약을 먹고 난 다음 날이나 이틀 뒤면 꼭 금를 하고 기운이 없어서 그를 안고 병원에 달려갔었어요. -> The next day or two after taking the drug, I had no energy and I ran to the hospital with him in my arms. [0.6796116504854368]\n",
      "Consistency Error: 그 약을 먹고 난 다음 날이나 이틀 뒤면 꼭 토를 하고 기운이 없어서 그를 안고 병원에 달려갔었어요. -> The next day or two after taking the drug, I always vomited and had no energy, so I hugged him and rushed to the hospital.\n"
     ]
    },
    {
     "name": "stderr",
     "output_type": "stream",
     "text": [
      " 96%|█████████▌| 848/883 [02:19<00:08,  4.08it/s]"
     ]
    },
    {
     "name": "stdout",
     "output_type": "stream",
     "text": [
      "Inconsistent mutant: 그 여자 얼굴 뜨고 있는 거 맞지? -> Is that woman's face open? [0]\n",
      "Consistency Error: 그 여자 눈 뜨고 있는 거 맞지? -> That girl's eyes are open, right?\n"
     ]
    },
    {
     "name": "stderr",
     "output_type": "stream",
     "text": [
      " 97%|█████████▋| 853/883 [02:19<00:05,  5.30it/s]"
     ]
    },
    {
     "name": "stdout",
     "output_type": "stream",
     "text": [
      "Inconsistent mutant: 그 여자가 내 애인였으면 좋겠습니다. -> I want that woman to be my lover. [0.5833333333333333]\n",
      "Consistency Error: 그 여자가 내 친구였으면 좋겠습니다. -> I wish she was my friend.\n"
     ]
    },
    {
     "name": "stderr",
     "output_type": "stream",
     "text": [
      " 98%|█████████▊| 863/883 [02:19<00:02,  7.09it/s]"
     ]
    },
    {
     "name": "stdout",
     "output_type": "stream",
     "text": [
      "Inconsistent mutant: 그 여자가 오전 당신에게 전화했나요? -> Did the woman call you this morning? [0.6818181818181819]\n",
      "Consistency Error: 그 여자가 오늘 당신에게 전화했나요? -> Did she call you today?\n"
     ]
    },
    {
     "name": "stderr",
     "output_type": "stream",
     "text": [
      "100%|██████████| 883/883 [02:20<00:00,  6.28it/s]\n"
     ]
    }
   ],
   "source": [
    "repair_results = []\n",
    "\n",
    "for hash, text in tqdm(sentences.items()):\n",
    "    mutants = mutant_sentences[hash]\n",
    "    if not test_consistency(text, mutants, debug=True):\n",
    "        print(f\"Consistency Error: {text}\")\n",
    "        repaired_sentence = repair(text, mutants)\n",
    "        repair_results.append((text, mutants, repaired_sentence))"
   ]
  },
  {
   "cell_type": "code",
   "execution_count": 14,
   "metadata": {},
   "outputs": [
    {
     "name": "stdout",
     "output_type": "stream",
     "text": [
      "6년 전 저는 사랑하는 남자와 4년 연애 후 결혼을 했습니다.\n",
      "Six years ago, I got married to the man I love after four years of dating.\n",
      "Six years ago, I got married to the man I love after five years of dating.\n",
      "\n",
      "괴물은 자신의 틀에 딸을 가두려는 마녀로부터 딸을 꺼내 주는 역할입니다.\n",
      "The monster's role is to get her daughter out of the witch trying to lock her in her mold.\n",
      "The monster's role is to get her daughter out of the fairy trying to lock her in her mold.\n",
      "\n",
      "그 남자가 와서는 안 됩니다.\n",
      "The man must not come.\n",
      "The boy must not come.\n",
      "\n",
      "그 남자는 부상을 면했어요.\n",
      "The man escaped injuries.\n",
      "The man escaped the fall.\n",
      "\n",
      "그 남자는 알겠다고 했습니다.\n",
      "The man said he would.\n",
      "The boy said he would.\n",
      "\n",
      "그 남자는 카메라를 목에 걸고 있고 손에는 지도를 들고 있어요.\n",
      "The man has a camera around his neck and a map in his hand.\n",
      "The man has a camera around his gold and a map in his hand.\n",
      "\n",
      "그 사람도 참석할 수 있어요.\n",
      "That person can attend too.\n",
      "That person can invite too.\n",
      "\n",
      "그 여자가 오늘 당신에게 전화했나요?\n",
      "Did she call you today?\n",
      "Did man call you today?\n",
      "\n"
     ]
    }
   ],
   "source": [
    "for text, mutants, repaired_sentence in repair_results:\n",
    "    if text.translated != repaired_sentence.translated:\n",
    "        print(f\"{text.sentence}\")\n",
    "        print(f\"{text.translated}\")\n",
    "        print(f\"{repaired_sentence.translated}\")\n",
    "        print(\"\")"
   ]
  },
  {
   "cell_type": "code",
   "execution_count": null,
   "metadata": {},
   "outputs": [],
   "source": []
  }
 ],
 "metadata": {
  "interpreter": {
   "hash": "878eaed65604c1104097ccdf5de881d73204f55acb592f52cbb5bd6ae899bb77"
  },
  "kernelspec": {
   "display_name": "Python 3.8.2 64-bit ('tensorflow-env')",
   "language": "python",
   "name": "python3"
  },
  "language_info": {
   "codemirror_mode": {
    "name": "ipython",
    "version": 3
   },
   "file_extension": ".py",
   "mimetype": "text/x-python",
   "name": "python",
   "nbconvert_exporter": "python",
   "pygments_lexer": "ipython3",
   "version": "3.8.2"
  },
  "orig_nbformat": 4
 },
 "nbformat": 4,
 "nbformat_minor": 2
}
